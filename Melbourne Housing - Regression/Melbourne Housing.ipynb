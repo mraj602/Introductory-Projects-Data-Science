{
 "cells": [
  {
   "cell_type": "markdown",
   "metadata": {},
   "source": [
    "# Predicting Price of Melbourne Housing"
   ]
  },
  {
   "cell_type": "markdown",
   "metadata": {},
   "source": [
    "I am using the Data of Melbourne Housing to predict the price of house various parameters. The project using various Regression Models to come to a conclusion"
   ]
  },
  {
   "cell_type": "code",
   "execution_count": 1,
   "metadata": {},
   "outputs": [],
   "source": [
    "import pandas as pd\n",
    "import matplotlib.pyplot as plt\n",
    "import seaborn as sns\n",
    "import numpy as np"
   ]
  },
  {
   "cell_type": "markdown",
   "metadata": {},
   "source": [
    "### The data"
   ]
  },
  {
   "cell_type": "markdown",
   "metadata": {},
   "source": [
    "#### Importing the data:"
   ]
  },
  {
   "cell_type": "code",
   "execution_count": 2,
   "metadata": {},
   "outputs": [
    {
     "data": {
      "text/html": [
       "<div>\n",
       "<style scoped>\n",
       "    .dataframe tbody tr th:only-of-type {\n",
       "        vertical-align: middle;\n",
       "    }\n",
       "\n",
       "    .dataframe tbody tr th {\n",
       "        vertical-align: top;\n",
       "    }\n",
       "\n",
       "    .dataframe thead th {\n",
       "        text-align: right;\n",
       "    }\n",
       "</style>\n",
       "<table border=\"1\" class=\"dataframe\">\n",
       "  <thead>\n",
       "    <tr style=\"text-align: right;\">\n",
       "      <th></th>\n",
       "      <th>Suburb</th>\n",
       "      <th>Address</th>\n",
       "      <th>Rooms</th>\n",
       "      <th>Type</th>\n",
       "      <th>Price</th>\n",
       "      <th>Method</th>\n",
       "      <th>SellerG</th>\n",
       "      <th>Date</th>\n",
       "      <th>Distance</th>\n",
       "      <th>Postcode</th>\n",
       "      <th>...</th>\n",
       "      <th>Bathroom</th>\n",
       "      <th>Car</th>\n",
       "      <th>Landsize</th>\n",
       "      <th>BuildingArea</th>\n",
       "      <th>YearBuilt</th>\n",
       "      <th>CouncilArea</th>\n",
       "      <th>Lattitude</th>\n",
       "      <th>Longtitude</th>\n",
       "      <th>Regionname</th>\n",
       "      <th>Propertycount</th>\n",
       "    </tr>\n",
       "  </thead>\n",
       "  <tbody>\n",
       "    <tr>\n",
       "      <th>0</th>\n",
       "      <td>Abbotsford</td>\n",
       "      <td>85 Turner St</td>\n",
       "      <td>2</td>\n",
       "      <td>h</td>\n",
       "      <td>1480000.0</td>\n",
       "      <td>S</td>\n",
       "      <td>Biggin</td>\n",
       "      <td>3/12/2016</td>\n",
       "      <td>2.5</td>\n",
       "      <td>3067.0</td>\n",
       "      <td>...</td>\n",
       "      <td>1.0</td>\n",
       "      <td>1.0</td>\n",
       "      <td>202.0</td>\n",
       "      <td>NaN</td>\n",
       "      <td>NaN</td>\n",
       "      <td>Yarra</td>\n",
       "      <td>-37.7996</td>\n",
       "      <td>144.9984</td>\n",
       "      <td>Northern Metropolitan</td>\n",
       "      <td>4019.0</td>\n",
       "    </tr>\n",
       "    <tr>\n",
       "      <th>1</th>\n",
       "      <td>Abbotsford</td>\n",
       "      <td>25 Bloomburg St</td>\n",
       "      <td>2</td>\n",
       "      <td>h</td>\n",
       "      <td>1035000.0</td>\n",
       "      <td>S</td>\n",
       "      <td>Biggin</td>\n",
       "      <td>4/02/2016</td>\n",
       "      <td>2.5</td>\n",
       "      <td>3067.0</td>\n",
       "      <td>...</td>\n",
       "      <td>1.0</td>\n",
       "      <td>0.0</td>\n",
       "      <td>156.0</td>\n",
       "      <td>79.0</td>\n",
       "      <td>1900.0</td>\n",
       "      <td>Yarra</td>\n",
       "      <td>-37.8079</td>\n",
       "      <td>144.9934</td>\n",
       "      <td>Northern Metropolitan</td>\n",
       "      <td>4019.0</td>\n",
       "    </tr>\n",
       "    <tr>\n",
       "      <th>2</th>\n",
       "      <td>Abbotsford</td>\n",
       "      <td>5 Charles St</td>\n",
       "      <td>3</td>\n",
       "      <td>h</td>\n",
       "      <td>1465000.0</td>\n",
       "      <td>SP</td>\n",
       "      <td>Biggin</td>\n",
       "      <td>4/03/2017</td>\n",
       "      <td>2.5</td>\n",
       "      <td>3067.0</td>\n",
       "      <td>...</td>\n",
       "      <td>2.0</td>\n",
       "      <td>0.0</td>\n",
       "      <td>134.0</td>\n",
       "      <td>150.0</td>\n",
       "      <td>1900.0</td>\n",
       "      <td>Yarra</td>\n",
       "      <td>-37.8093</td>\n",
       "      <td>144.9944</td>\n",
       "      <td>Northern Metropolitan</td>\n",
       "      <td>4019.0</td>\n",
       "    </tr>\n",
       "    <tr>\n",
       "      <th>3</th>\n",
       "      <td>Abbotsford</td>\n",
       "      <td>40 Federation La</td>\n",
       "      <td>3</td>\n",
       "      <td>h</td>\n",
       "      <td>850000.0</td>\n",
       "      <td>PI</td>\n",
       "      <td>Biggin</td>\n",
       "      <td>4/03/2017</td>\n",
       "      <td>2.5</td>\n",
       "      <td>3067.0</td>\n",
       "      <td>...</td>\n",
       "      <td>2.0</td>\n",
       "      <td>1.0</td>\n",
       "      <td>94.0</td>\n",
       "      <td>NaN</td>\n",
       "      <td>NaN</td>\n",
       "      <td>Yarra</td>\n",
       "      <td>-37.7969</td>\n",
       "      <td>144.9969</td>\n",
       "      <td>Northern Metropolitan</td>\n",
       "      <td>4019.0</td>\n",
       "    </tr>\n",
       "    <tr>\n",
       "      <th>4</th>\n",
       "      <td>Abbotsford</td>\n",
       "      <td>55a Park St</td>\n",
       "      <td>4</td>\n",
       "      <td>h</td>\n",
       "      <td>1600000.0</td>\n",
       "      <td>VB</td>\n",
       "      <td>Nelson</td>\n",
       "      <td>4/06/2016</td>\n",
       "      <td>2.5</td>\n",
       "      <td>3067.0</td>\n",
       "      <td>...</td>\n",
       "      <td>1.0</td>\n",
       "      <td>2.0</td>\n",
       "      <td>120.0</td>\n",
       "      <td>142.0</td>\n",
       "      <td>2014.0</td>\n",
       "      <td>Yarra</td>\n",
       "      <td>-37.8072</td>\n",
       "      <td>144.9941</td>\n",
       "      <td>Northern Metropolitan</td>\n",
       "      <td>4019.0</td>\n",
       "    </tr>\n",
       "  </tbody>\n",
       "</table>\n",
       "<p>5 rows × 21 columns</p>\n",
       "</div>"
      ],
      "text/plain": [
       "       Suburb           Address  Rooms Type      Price Method SellerG  \\\n",
       "0  Abbotsford      85 Turner St      2    h  1480000.0      S  Biggin   \n",
       "1  Abbotsford   25 Bloomburg St      2    h  1035000.0      S  Biggin   \n",
       "2  Abbotsford      5 Charles St      3    h  1465000.0     SP  Biggin   \n",
       "3  Abbotsford  40 Federation La      3    h   850000.0     PI  Biggin   \n",
       "4  Abbotsford       55a Park St      4    h  1600000.0     VB  Nelson   \n",
       "\n",
       "        Date  Distance  Postcode  ...  Bathroom  Car  Landsize  BuildingArea  \\\n",
       "0  3/12/2016       2.5    3067.0  ...       1.0  1.0     202.0           NaN   \n",
       "1  4/02/2016       2.5    3067.0  ...       1.0  0.0     156.0          79.0   \n",
       "2  4/03/2017       2.5    3067.0  ...       2.0  0.0     134.0         150.0   \n",
       "3  4/03/2017       2.5    3067.0  ...       2.0  1.0      94.0           NaN   \n",
       "4  4/06/2016       2.5    3067.0  ...       1.0  2.0     120.0         142.0   \n",
       "\n",
       "   YearBuilt  CouncilArea Lattitude  Longtitude             Regionname  \\\n",
       "0        NaN        Yarra  -37.7996    144.9984  Northern Metropolitan   \n",
       "1     1900.0        Yarra  -37.8079    144.9934  Northern Metropolitan   \n",
       "2     1900.0        Yarra  -37.8093    144.9944  Northern Metropolitan   \n",
       "3        NaN        Yarra  -37.7969    144.9969  Northern Metropolitan   \n",
       "4     2014.0        Yarra  -37.8072    144.9941  Northern Metropolitan   \n",
       "\n",
       "  Propertycount  \n",
       "0        4019.0  \n",
       "1        4019.0  \n",
       "2        4019.0  \n",
       "3        4019.0  \n",
       "4        4019.0  \n",
       "\n",
       "[5 rows x 21 columns]"
      ]
     },
     "execution_count": 2,
     "metadata": {},
     "output_type": "execute_result"
    }
   ],
   "source": [
    "data = pd.read_csv('data\\melb_data.csv')\n",
    "data.head()"
   ]
  },
  {
   "cell_type": "markdown",
   "metadata": {},
   "source": [
    "### Explaining the columns in the dataset\n",
    "\n",
    "Rooms: Number of rooms\n",
    "\n",
    "Price: Price in dollars\n",
    "\n",
    "Method: S - property sold; SP - property sold prior; PI - property passed in; PN - sold prior not disclosed; SN - sold not disclosed; NB - no bid; VB - vendor bid; W - withdrawn prior to auction; SA - sold after auction; SS - sold after auction price not disclosed. N/A - price or highest bid not available.\n",
    "\n",
    "Type: br - bedroom(s); h - house,cottage,villa, semi,terrace; u - unit, duplex; t - townhouse; dev site - development site; o res - other residential.\n",
    "\n",
    "SellerG: Real Estate Agent\n",
    "\n",
    "Date: Date sold\n",
    "\n",
    "Distance: Distance from CBD\n",
    "\n",
    "Regionname: General Region (West, North West, North, North east …etc)\n",
    "\n",
    "Propertycount: Number of properties that exist in the suburb.\n",
    "\n",
    "Bedroom2 : Scraped # of Bedrooms (from different source)\n",
    "\n",
    "Bathroom: Number of Bathrooms\n",
    "\n",
    "Car: Number of carspots\n",
    "\n",
    "Landsize: Land Size\n",
    "\n",
    "BuildingArea: Building Size\n",
    "\n",
    "CouncilArea: Governing council for the area\n",
    "\n",
    "#### The other variables have common meanings"
   ]
  },
  {
   "cell_type": "code",
   "execution_count": 3,
   "metadata": {},
   "outputs": [
    {
     "data": {
      "text/plain": [
       "Index(['Suburb', 'Address', 'Rooms', 'Type', 'Price', 'Method', 'SellerG',\n",
       "       'Date', 'Distance', 'Postcode', 'Bedroom2', 'Bathroom', 'Car',\n",
       "       'Landsize', 'BuildingArea', 'YearBuilt', 'CouncilArea', 'Lattitude',\n",
       "       'Longtitude', 'Regionname', 'Propertycount'],\n",
       "      dtype='object')"
      ]
     },
     "execution_count": 3,
     "metadata": {},
     "output_type": "execute_result"
    }
   ],
   "source": [
    "data.columns"
   ]
  },
  {
   "cell_type": "markdown",
   "metadata": {},
   "source": [
    "### Objective: Framing the question\n",
    "\n",
    "The objective of our project is to predict if and how much the column headings affect the price of Housing in Melbourne.\n",
    "\n",
    "To get through, first we need to look through the data explore the data"
   ]
  },
  {
   "cell_type": "markdown",
   "metadata": {},
   "source": [
    "### Exploring the data"
   ]
  },
  {
   "cell_type": "code",
   "execution_count": 4,
   "metadata": {},
   "outputs": [
    {
     "data": {
      "text/plain": [
       "(13580, 21)"
      ]
     },
     "execution_count": 4,
     "metadata": {},
     "output_type": "execute_result"
    }
   ],
   "source": [
    "data.shape"
   ]
  },
  {
   "cell_type": "code",
   "execution_count": 5,
   "metadata": {},
   "outputs": [
    {
     "data": {
      "text/plain": [
       "Suburb            object\n",
       "Address           object\n",
       "Rooms              int64\n",
       "Type              object\n",
       "Price            float64\n",
       "Method            object\n",
       "SellerG           object\n",
       "Date              object\n",
       "Distance         float64\n",
       "Postcode         float64\n",
       "Bedroom2         float64\n",
       "Bathroom         float64\n",
       "Car              float64\n",
       "Landsize         float64\n",
       "BuildingArea     float64\n",
       "YearBuilt        float64\n",
       "CouncilArea       object\n",
       "Lattitude        float64\n",
       "Longtitude       float64\n",
       "Regionname        object\n",
       "Propertycount    float64\n",
       "dtype: object"
      ]
     },
     "execution_count": 5,
     "metadata": {},
     "output_type": "execute_result"
    }
   ],
   "source": [
    "data.dtypes"
   ]
  },
  {
   "cell_type": "code",
   "execution_count": 6,
   "metadata": {},
   "outputs": [
    {
     "data": {
      "text/html": [
       "<div>\n",
       "<style scoped>\n",
       "    .dataframe tbody tr th:only-of-type {\n",
       "        vertical-align: middle;\n",
       "    }\n",
       "\n",
       "    .dataframe tbody tr th {\n",
       "        vertical-align: top;\n",
       "    }\n",
       "\n",
       "    .dataframe thead th {\n",
       "        text-align: right;\n",
       "    }\n",
       "</style>\n",
       "<table border=\"1\" class=\"dataframe\">\n",
       "  <thead>\n",
       "    <tr style=\"text-align: right;\">\n",
       "      <th></th>\n",
       "      <th>Suburb</th>\n",
       "      <th>Address</th>\n",
       "      <th>Rooms</th>\n",
       "      <th>Type</th>\n",
       "      <th>Price</th>\n",
       "      <th>Method</th>\n",
       "      <th>SellerG</th>\n",
       "      <th>Date</th>\n",
       "      <th>Distance</th>\n",
       "      <th>Postcode</th>\n",
       "      <th>...</th>\n",
       "      <th>Bathroom</th>\n",
       "      <th>Car</th>\n",
       "      <th>Landsize</th>\n",
       "      <th>BuildingArea</th>\n",
       "      <th>YearBuilt</th>\n",
       "      <th>CouncilArea</th>\n",
       "      <th>Lattitude</th>\n",
       "      <th>Longtitude</th>\n",
       "      <th>Regionname</th>\n",
       "      <th>Propertycount</th>\n",
       "    </tr>\n",
       "  </thead>\n",
       "  <tbody>\n",
       "    <tr>\n",
       "      <th>count</th>\n",
       "      <td>13580</td>\n",
       "      <td>13580</td>\n",
       "      <td>13580.000000</td>\n",
       "      <td>13580</td>\n",
       "      <td>1.358000e+04</td>\n",
       "      <td>13580</td>\n",
       "      <td>13580</td>\n",
       "      <td>13580</td>\n",
       "      <td>13580.000000</td>\n",
       "      <td>13580.000000</td>\n",
       "      <td>...</td>\n",
       "      <td>13580.000000</td>\n",
       "      <td>13518.000000</td>\n",
       "      <td>13580.000000</td>\n",
       "      <td>7130.000000</td>\n",
       "      <td>8205.000000</td>\n",
       "      <td>12211</td>\n",
       "      <td>13580.000000</td>\n",
       "      <td>13580.000000</td>\n",
       "      <td>13580</td>\n",
       "      <td>13580.000000</td>\n",
       "    </tr>\n",
       "    <tr>\n",
       "      <th>unique</th>\n",
       "      <td>314</td>\n",
       "      <td>13378</td>\n",
       "      <td>NaN</td>\n",
       "      <td>3</td>\n",
       "      <td>NaN</td>\n",
       "      <td>5</td>\n",
       "      <td>268</td>\n",
       "      <td>58</td>\n",
       "      <td>NaN</td>\n",
       "      <td>NaN</td>\n",
       "      <td>...</td>\n",
       "      <td>NaN</td>\n",
       "      <td>NaN</td>\n",
       "      <td>NaN</td>\n",
       "      <td>NaN</td>\n",
       "      <td>NaN</td>\n",
       "      <td>33</td>\n",
       "      <td>NaN</td>\n",
       "      <td>NaN</td>\n",
       "      <td>8</td>\n",
       "      <td>NaN</td>\n",
       "    </tr>\n",
       "    <tr>\n",
       "      <th>top</th>\n",
       "      <td>Reservoir</td>\n",
       "      <td>53 William St</td>\n",
       "      <td>NaN</td>\n",
       "      <td>h</td>\n",
       "      <td>NaN</td>\n",
       "      <td>S</td>\n",
       "      <td>Nelson</td>\n",
       "      <td>27/05/2017</td>\n",
       "      <td>NaN</td>\n",
       "      <td>NaN</td>\n",
       "      <td>...</td>\n",
       "      <td>NaN</td>\n",
       "      <td>NaN</td>\n",
       "      <td>NaN</td>\n",
       "      <td>NaN</td>\n",
       "      <td>NaN</td>\n",
       "      <td>Moreland</td>\n",
       "      <td>NaN</td>\n",
       "      <td>NaN</td>\n",
       "      <td>Southern Metropolitan</td>\n",
       "      <td>NaN</td>\n",
       "    </tr>\n",
       "    <tr>\n",
       "      <th>freq</th>\n",
       "      <td>359</td>\n",
       "      <td>3</td>\n",
       "      <td>NaN</td>\n",
       "      <td>9449</td>\n",
       "      <td>NaN</td>\n",
       "      <td>9022</td>\n",
       "      <td>1565</td>\n",
       "      <td>473</td>\n",
       "      <td>NaN</td>\n",
       "      <td>NaN</td>\n",
       "      <td>...</td>\n",
       "      <td>NaN</td>\n",
       "      <td>NaN</td>\n",
       "      <td>NaN</td>\n",
       "      <td>NaN</td>\n",
       "      <td>NaN</td>\n",
       "      <td>1163</td>\n",
       "      <td>NaN</td>\n",
       "      <td>NaN</td>\n",
       "      <td>4695</td>\n",
       "      <td>NaN</td>\n",
       "    </tr>\n",
       "    <tr>\n",
       "      <th>mean</th>\n",
       "      <td>NaN</td>\n",
       "      <td>NaN</td>\n",
       "      <td>2.937997</td>\n",
       "      <td>NaN</td>\n",
       "      <td>1.075684e+06</td>\n",
       "      <td>NaN</td>\n",
       "      <td>NaN</td>\n",
       "      <td>NaN</td>\n",
       "      <td>10.137776</td>\n",
       "      <td>3105.301915</td>\n",
       "      <td>...</td>\n",
       "      <td>1.534242</td>\n",
       "      <td>1.610075</td>\n",
       "      <td>558.416127</td>\n",
       "      <td>151.967650</td>\n",
       "      <td>1964.684217</td>\n",
       "      <td>NaN</td>\n",
       "      <td>-37.809203</td>\n",
       "      <td>144.995216</td>\n",
       "      <td>NaN</td>\n",
       "      <td>7454.417378</td>\n",
       "    </tr>\n",
       "    <tr>\n",
       "      <th>std</th>\n",
       "      <td>NaN</td>\n",
       "      <td>NaN</td>\n",
       "      <td>0.955748</td>\n",
       "      <td>NaN</td>\n",
       "      <td>6.393107e+05</td>\n",
       "      <td>NaN</td>\n",
       "      <td>NaN</td>\n",
       "      <td>NaN</td>\n",
       "      <td>5.868725</td>\n",
       "      <td>90.676964</td>\n",
       "      <td>...</td>\n",
       "      <td>0.691712</td>\n",
       "      <td>0.962634</td>\n",
       "      <td>3990.669241</td>\n",
       "      <td>541.014538</td>\n",
       "      <td>37.273762</td>\n",
       "      <td>NaN</td>\n",
       "      <td>0.079260</td>\n",
       "      <td>0.103916</td>\n",
       "      <td>NaN</td>\n",
       "      <td>4378.581772</td>\n",
       "    </tr>\n",
       "    <tr>\n",
       "      <th>min</th>\n",
       "      <td>NaN</td>\n",
       "      <td>NaN</td>\n",
       "      <td>1.000000</td>\n",
       "      <td>NaN</td>\n",
       "      <td>8.500000e+04</td>\n",
       "      <td>NaN</td>\n",
       "      <td>NaN</td>\n",
       "      <td>NaN</td>\n",
       "      <td>0.000000</td>\n",
       "      <td>3000.000000</td>\n",
       "      <td>...</td>\n",
       "      <td>0.000000</td>\n",
       "      <td>0.000000</td>\n",
       "      <td>0.000000</td>\n",
       "      <td>0.000000</td>\n",
       "      <td>1196.000000</td>\n",
       "      <td>NaN</td>\n",
       "      <td>-38.182550</td>\n",
       "      <td>144.431810</td>\n",
       "      <td>NaN</td>\n",
       "      <td>249.000000</td>\n",
       "    </tr>\n",
       "    <tr>\n",
       "      <th>25%</th>\n",
       "      <td>NaN</td>\n",
       "      <td>NaN</td>\n",
       "      <td>2.000000</td>\n",
       "      <td>NaN</td>\n",
       "      <td>6.500000e+05</td>\n",
       "      <td>NaN</td>\n",
       "      <td>NaN</td>\n",
       "      <td>NaN</td>\n",
       "      <td>6.100000</td>\n",
       "      <td>3044.000000</td>\n",
       "      <td>...</td>\n",
       "      <td>1.000000</td>\n",
       "      <td>1.000000</td>\n",
       "      <td>177.000000</td>\n",
       "      <td>93.000000</td>\n",
       "      <td>1940.000000</td>\n",
       "      <td>NaN</td>\n",
       "      <td>-37.856822</td>\n",
       "      <td>144.929600</td>\n",
       "      <td>NaN</td>\n",
       "      <td>4380.000000</td>\n",
       "    </tr>\n",
       "    <tr>\n",
       "      <th>50%</th>\n",
       "      <td>NaN</td>\n",
       "      <td>NaN</td>\n",
       "      <td>3.000000</td>\n",
       "      <td>NaN</td>\n",
       "      <td>9.030000e+05</td>\n",
       "      <td>NaN</td>\n",
       "      <td>NaN</td>\n",
       "      <td>NaN</td>\n",
       "      <td>9.200000</td>\n",
       "      <td>3084.000000</td>\n",
       "      <td>...</td>\n",
       "      <td>1.000000</td>\n",
       "      <td>2.000000</td>\n",
       "      <td>440.000000</td>\n",
       "      <td>126.000000</td>\n",
       "      <td>1970.000000</td>\n",
       "      <td>NaN</td>\n",
       "      <td>-37.802355</td>\n",
       "      <td>145.000100</td>\n",
       "      <td>NaN</td>\n",
       "      <td>6555.000000</td>\n",
       "    </tr>\n",
       "    <tr>\n",
       "      <th>75%</th>\n",
       "      <td>NaN</td>\n",
       "      <td>NaN</td>\n",
       "      <td>3.000000</td>\n",
       "      <td>NaN</td>\n",
       "      <td>1.330000e+06</td>\n",
       "      <td>NaN</td>\n",
       "      <td>NaN</td>\n",
       "      <td>NaN</td>\n",
       "      <td>13.000000</td>\n",
       "      <td>3148.000000</td>\n",
       "      <td>...</td>\n",
       "      <td>2.000000</td>\n",
       "      <td>2.000000</td>\n",
       "      <td>651.000000</td>\n",
       "      <td>174.000000</td>\n",
       "      <td>1999.000000</td>\n",
       "      <td>NaN</td>\n",
       "      <td>-37.756400</td>\n",
       "      <td>145.058305</td>\n",
       "      <td>NaN</td>\n",
       "      <td>10331.000000</td>\n",
       "    </tr>\n",
       "    <tr>\n",
       "      <th>max</th>\n",
       "      <td>NaN</td>\n",
       "      <td>NaN</td>\n",
       "      <td>10.000000</td>\n",
       "      <td>NaN</td>\n",
       "      <td>9.000000e+06</td>\n",
       "      <td>NaN</td>\n",
       "      <td>NaN</td>\n",
       "      <td>NaN</td>\n",
       "      <td>48.100000</td>\n",
       "      <td>3977.000000</td>\n",
       "      <td>...</td>\n",
       "      <td>8.000000</td>\n",
       "      <td>10.000000</td>\n",
       "      <td>433014.000000</td>\n",
       "      <td>44515.000000</td>\n",
       "      <td>2018.000000</td>\n",
       "      <td>NaN</td>\n",
       "      <td>-37.408530</td>\n",
       "      <td>145.526350</td>\n",
       "      <td>NaN</td>\n",
       "      <td>21650.000000</td>\n",
       "    </tr>\n",
       "  </tbody>\n",
       "</table>\n",
       "<p>11 rows × 21 columns</p>\n",
       "</div>"
      ],
      "text/plain": [
       "           Suburb        Address         Rooms   Type         Price Method  \\\n",
       "count       13580          13580  13580.000000  13580  1.358000e+04  13580   \n",
       "unique        314          13378           NaN      3           NaN      5   \n",
       "top     Reservoir  53 William St           NaN      h           NaN      S   \n",
       "freq          359              3           NaN   9449           NaN   9022   \n",
       "mean          NaN            NaN      2.937997    NaN  1.075684e+06    NaN   \n",
       "std           NaN            NaN      0.955748    NaN  6.393107e+05    NaN   \n",
       "min           NaN            NaN      1.000000    NaN  8.500000e+04    NaN   \n",
       "25%           NaN            NaN      2.000000    NaN  6.500000e+05    NaN   \n",
       "50%           NaN            NaN      3.000000    NaN  9.030000e+05    NaN   \n",
       "75%           NaN            NaN      3.000000    NaN  1.330000e+06    NaN   \n",
       "max           NaN            NaN     10.000000    NaN  9.000000e+06    NaN   \n",
       "\n",
       "       SellerG        Date      Distance      Postcode  ...      Bathroom  \\\n",
       "count    13580       13580  13580.000000  13580.000000  ...  13580.000000   \n",
       "unique     268          58           NaN           NaN  ...           NaN   \n",
       "top     Nelson  27/05/2017           NaN           NaN  ...           NaN   \n",
       "freq      1565         473           NaN           NaN  ...           NaN   \n",
       "mean       NaN         NaN     10.137776   3105.301915  ...      1.534242   \n",
       "std        NaN         NaN      5.868725     90.676964  ...      0.691712   \n",
       "min        NaN         NaN      0.000000   3000.000000  ...      0.000000   \n",
       "25%        NaN         NaN      6.100000   3044.000000  ...      1.000000   \n",
       "50%        NaN         NaN      9.200000   3084.000000  ...      1.000000   \n",
       "75%        NaN         NaN     13.000000   3148.000000  ...      2.000000   \n",
       "max        NaN         NaN     48.100000   3977.000000  ...      8.000000   \n",
       "\n",
       "                 Car       Landsize  BuildingArea    YearBuilt  CouncilArea  \\\n",
       "count   13518.000000   13580.000000   7130.000000  8205.000000        12211   \n",
       "unique           NaN            NaN           NaN          NaN           33   \n",
       "top              NaN            NaN           NaN          NaN     Moreland   \n",
       "freq             NaN            NaN           NaN          NaN         1163   \n",
       "mean        1.610075     558.416127    151.967650  1964.684217          NaN   \n",
       "std         0.962634    3990.669241    541.014538    37.273762          NaN   \n",
       "min         0.000000       0.000000      0.000000  1196.000000          NaN   \n",
       "25%         1.000000     177.000000     93.000000  1940.000000          NaN   \n",
       "50%         2.000000     440.000000    126.000000  1970.000000          NaN   \n",
       "75%         2.000000     651.000000    174.000000  1999.000000          NaN   \n",
       "max        10.000000  433014.000000  44515.000000  2018.000000          NaN   \n",
       "\n",
       "           Lattitude    Longtitude             Regionname Propertycount  \n",
       "count   13580.000000  13580.000000                  13580  13580.000000  \n",
       "unique           NaN           NaN                      8           NaN  \n",
       "top              NaN           NaN  Southern Metropolitan           NaN  \n",
       "freq             NaN           NaN                   4695           NaN  \n",
       "mean      -37.809203    144.995216                    NaN   7454.417378  \n",
       "std         0.079260      0.103916                    NaN   4378.581772  \n",
       "min       -38.182550    144.431810                    NaN    249.000000  \n",
       "25%       -37.856822    144.929600                    NaN   4380.000000  \n",
       "50%       -37.802355    145.000100                    NaN   6555.000000  \n",
       "75%       -37.756400    145.058305                    NaN  10331.000000  \n",
       "max       -37.408530    145.526350                    NaN  21650.000000  \n",
       "\n",
       "[11 rows x 21 columns]"
      ]
     },
     "execution_count": 6,
     "metadata": {},
     "output_type": "execute_result"
    }
   ],
   "source": [
    "data.describe(include='all')"
   ]
  },
  {
   "cell_type": "markdown",
   "metadata": {},
   "source": [
    "We can see that Address column has 13378 unique values, so it doesn't make sense to include it in our feature list. We will drop Address column. Further we can see that there are 314 unique values of suburb, and each unique value will have unique Propertycount value. So we will create a different dataFrame for storing that variable and discuss about it later if needed. "
   ]
  },
  {
   "cell_type": "code",
   "execution_count": 7,
   "metadata": {},
   "outputs": [
    {
     "data": {
      "text/html": [
       "<div>\n",
       "<style scoped>\n",
       "    .dataframe tbody tr th:only-of-type {\n",
       "        vertical-align: middle;\n",
       "    }\n",
       "\n",
       "    .dataframe tbody tr th {\n",
       "        vertical-align: top;\n",
       "    }\n",
       "\n",
       "    .dataframe thead th {\n",
       "        text-align: right;\n",
       "    }\n",
       "</style>\n",
       "<table border=\"1\" class=\"dataframe\">\n",
       "  <thead>\n",
       "    <tr style=\"text-align: right;\">\n",
       "      <th></th>\n",
       "      <th>Propertycount</th>\n",
       "    </tr>\n",
       "    <tr>\n",
       "      <th>Suburb</th>\n",
       "      <th></th>\n",
       "    </tr>\n",
       "  </thead>\n",
       "  <tbody>\n",
       "    <tr>\n",
       "      <th>Abbotsford</th>\n",
       "      <td>4019.0</td>\n",
       "    </tr>\n",
       "    <tr>\n",
       "      <th>Aberfeldie</th>\n",
       "      <td>1543.0</td>\n",
       "    </tr>\n",
       "    <tr>\n",
       "      <th>Airport West</th>\n",
       "      <td>3464.0</td>\n",
       "    </tr>\n",
       "    <tr>\n",
       "      <th>Albanvale</th>\n",
       "      <td>1899.0</td>\n",
       "    </tr>\n",
       "    <tr>\n",
       "      <th>Albert Park</th>\n",
       "      <td>3280.0</td>\n",
       "    </tr>\n",
       "    <tr>\n",
       "      <th>...</th>\n",
       "      <td>...</td>\n",
       "    </tr>\n",
       "    <tr>\n",
       "      <th>Wonga Park</th>\n",
       "      <td>1328.0</td>\n",
       "    </tr>\n",
       "    <tr>\n",
       "      <th>Wyndham Vale</th>\n",
       "      <td>5262.0</td>\n",
       "    </tr>\n",
       "    <tr>\n",
       "      <th>Yallambie</th>\n",
       "      <td>1369.0</td>\n",
       "    </tr>\n",
       "    <tr>\n",
       "      <th>Yarra Glen</th>\n",
       "      <td>1160.0</td>\n",
       "    </tr>\n",
       "    <tr>\n",
       "      <th>Yarraville</th>\n",
       "      <td>6543.0</td>\n",
       "    </tr>\n",
       "  </tbody>\n",
       "</table>\n",
       "<p>314 rows × 1 columns</p>\n",
       "</div>"
      ],
      "text/plain": [
       "              Propertycount\n",
       "Suburb                     \n",
       "Abbotsford           4019.0\n",
       "Aberfeldie           1543.0\n",
       "Airport West         3464.0\n",
       "Albanvale            1899.0\n",
       "Albert Park          3280.0\n",
       "...                     ...\n",
       "Wonga Park           1328.0\n",
       "Wyndham Vale         5262.0\n",
       "Yallambie            1369.0\n",
       "Yarra Glen           1160.0\n",
       "Yarraville           6543.0\n",
       "\n",
       "[314 rows x 1 columns]"
      ]
     },
     "execution_count": 7,
     "metadata": {},
     "output_type": "execute_result"
    }
   ],
   "source": [
    "suburb_unique = pd.DataFrame((data.groupby('Suburb')['Propertycount'].max()))\n",
    "\n",
    "suburb_unique"
   ]
  },
  {
   "cell_type": "code",
   "execution_count": 8,
   "metadata": {},
   "outputs": [],
   "source": [
    "data.drop(columns=['Address','Propertycount'],axis=1,inplace=True)"
   ]
  },
  {
   "cell_type": "code",
   "execution_count": 9,
   "metadata": {},
   "outputs": [
    {
     "data": {
      "text/plain": [
       "Suburb             0\n",
       "Rooms              0\n",
       "Type               0\n",
       "Price              0\n",
       "Method             0\n",
       "SellerG            0\n",
       "Date               0\n",
       "Distance           0\n",
       "Postcode           0\n",
       "Bedroom2           0\n",
       "Bathroom           0\n",
       "Car               62\n",
       "Landsize           0\n",
       "BuildingArea    6450\n",
       "YearBuilt       5375\n",
       "CouncilArea     1369\n",
       "Lattitude          0\n",
       "Longtitude         0\n",
       "Regionname         0\n",
       "dtype: int64"
      ]
     },
     "execution_count": 9,
     "metadata": {},
     "output_type": "execute_result"
    }
   ],
   "source": [
    "data.isna().sum()"
   ]
  },
  {
   "cell_type": "markdown",
   "metadata": {},
   "source": [
    "We can see that we need to first deal with columns Car, BuildingArea, YearBuilt and CouncilArea. Lets first look for Car column"
   ]
  },
  {
   "cell_type": "code",
   "execution_count": 10,
   "metadata": {},
   "outputs": [
    {
     "data": {
      "image/png": "[encoded data removed]",
      "text/plain": [
       "<Figure size 432x288 with 1 Axes>"
      ]
     },
     "metadata": {
      "needs_background": "light"
     },
     "output_type": "display_data"
    },
    {
     "name": "stdout",
     "output_type": "stream",
     "text": [
      "count    13518.000000\n",
      "mean         1.610075\n",
      "std          0.962634\n",
      "min          0.000000\n",
      "25%          1.000000\n",
      "50%          2.000000\n",
      "75%          2.000000\n",
      "max         10.000000\n",
      "Name: Car, dtype: float64\n"
     ]
    }
   ],
   "source": [
    "data['Car'].hist()\n",
    "plt.show()\n",
    "print(data['Car'].describe())"
   ]
  },
  {
   "cell_type": "markdown",
   "metadata": {},
   "source": [
    "We can see that median value is 2. Moreover mean is 1.6 which is near to 2. So we will replace the null values with 2."
   ]
  },
  {
   "cell_type": "code",
   "execution_count": 11,
   "metadata": {},
   "outputs": [],
   "source": [
    "data['Car'].fillna(2,inplace=True)"
   ]
  },
  {
   "cell_type": "code",
   "execution_count": 12,
   "metadata": {},
   "outputs": [
    {
     "data": {
      "text/plain": [
       "Suburb             0\n",
       "Rooms              0\n",
       "Type               0\n",
       "Price              0\n",
       "Method             0\n",
       "SellerG            0\n",
       "Date               0\n",
       "Distance           0\n",
       "Postcode           0\n",
       "Bedroom2           0\n",
       "Bathroom           0\n",
       "Car                0\n",
       "Landsize           0\n",
       "BuildingArea    6450\n",
       "YearBuilt       5375\n",
       "CouncilArea     1369\n",
       "Lattitude          0\n",
       "Longtitude         0\n",
       "Regionname         0\n",
       "dtype: int64"
      ]
     },
     "execution_count": 12,
     "metadata": {},
     "output_type": "execute_result"
    }
   ],
   "source": [
    "data.isna().sum()"
   ]
  },
  {
   "cell_type": "code",
   "execution_count": 13,
   "metadata": {},
   "outputs": [
    {
     "data": {
      "text/plain": [
       "count     7130.000000\n",
       "mean       151.967650\n",
       "std        541.014538\n",
       "min          0.000000\n",
       "25%         93.000000\n",
       "50%        126.000000\n",
       "75%        174.000000\n",
       "max      44515.000000\n",
       "Name: BuildingArea, dtype: float64"
      ]
     },
     "execution_count": 13,
     "metadata": {},
     "output_type": "execute_result"
    }
   ],
   "source": [
    "data['BuildingArea'].describe()"
   ]
  },
  {
   "cell_type": "markdown",
   "metadata": {},
   "source": [
    "We can see that we have a large data with NAN values in BuildingArea. As buildingArea is an important factor but at the same time half of the values are missing, we will drop the column"
   ]
  },
  {
   "cell_type": "code",
   "execution_count": 14,
   "metadata": {},
   "outputs": [],
   "source": [
    "data.drop(columns='BuildingArea',axis=1, inplace = True)"
   ]
  },
  {
   "cell_type": "markdown",
   "metadata": {},
   "source": [
    "We will do the same for YearBuilt column because we have large data missing for the column"
   ]
  },
  {
   "cell_type": "code",
   "execution_count": 15,
   "metadata": {},
   "outputs": [],
   "source": [
    "data.drop(columns='YearBuilt',axis=1, inplace = True)"
   ]
  },
  {
   "cell_type": "markdown",
   "metadata": {},
   "source": [
    "For the column CouncilArea, we have 1359 rows with NA values. We can't drop these columns becase we have already dropped two columns with relevant data. Instead, as CouncilArea is defined by specific area, we can assign CouncilArea to unkown rows using latitude and longtitude. For example, CounilArea A will be applicable for range of Latitude and Longtitude, say Lat 39.4 to 39.7 and Long 144.5 to 144.9\n",
    "\n",
    "We can first group CouncilArea for available data using mean values of Lattitude and Longtitude\n",
    "\n",
    "Then we can find the Euclidean distance between the Lat and Long value of unknown row and mean value of Lat and Long for known CouncilAreas. Then we can assign the value of Minimum distance CouncilArea as CouncilArea for unknown row.\n",
    "\n",
    "**Note-** As the process using loop inside loop, the time complexity of loop is O(n^2). For large data set this might not be an optimal solution"
   ]
  },
  {
   "cell_type": "code",
   "execution_count": 16,
   "metadata": {},
   "outputs": [],
   "source": [
    "mean_latlong = data.groupby('CouncilArea').mean()[['Lattitude','Longtitude']]\n",
    "mean_latlong.reset_index(inplace=True)"
   ]
  },
  {
   "cell_type": "code",
   "execution_count": 17,
   "metadata": {},
   "outputs": [],
   "source": [
    "council_empty = data[data['CouncilArea'].isna()]"
   ]
  },
  {
   "cell_type": "code",
   "execution_count": 18,
   "metadata": {},
   "outputs": [
    {
     "data": {
      "text/html": [
       "<div>\n",
       "<style scoped>\n",
       "    .dataframe tbody tr th:only-of-type {\n",
       "        vertical-align: middle;\n",
       "    }\n",
       "\n",
       "    .dataframe tbody tr th {\n",
       "        vertical-align: top;\n",
       "    }\n",
       "\n",
       "    .dataframe thead th {\n",
       "        text-align: right;\n",
       "    }\n",
       "</style>\n",
       "<table border=\"1\" class=\"dataframe\">\n",
       "  <thead>\n",
       "    <tr style=\"text-align: right;\">\n",
       "      <th></th>\n",
       "      <th>Suburb</th>\n",
       "      <th>Rooms</th>\n",
       "      <th>Type</th>\n",
       "      <th>Price</th>\n",
       "      <th>Method</th>\n",
       "      <th>SellerG</th>\n",
       "      <th>Date</th>\n",
       "      <th>Distance</th>\n",
       "      <th>Postcode</th>\n",
       "      <th>Bedroom2</th>\n",
       "      <th>Bathroom</th>\n",
       "      <th>Car</th>\n",
       "      <th>Landsize</th>\n",
       "      <th>CouncilArea</th>\n",
       "      <th>Lattitude</th>\n",
       "      <th>Longtitude</th>\n",
       "      <th>Regionname</th>\n",
       "    </tr>\n",
       "  </thead>\n",
       "  <tbody>\n",
       "    <tr>\n",
       "      <th>7584</th>\n",
       "      <td>Brighton East</td>\n",
       "      <td>3</td>\n",
       "      <td>h</td>\n",
       "      <td>1270000.0</td>\n",
       "      <td>VB</td>\n",
       "      <td>Ray</td>\n",
       "      <td>20/05/2017</td>\n",
       "      <td>10.7</td>\n",
       "      <td>3187.0</td>\n",
       "      <td>3.0</td>\n",
       "      <td>1.0</td>\n",
       "      <td>3.0</td>\n",
       "      <td>724.0</td>\n",
       "      <td>NaN</td>\n",
       "      <td>-37.92910</td>\n",
       "      <td>145.02970</td>\n",
       "      <td>Southern Metropolitan</td>\n",
       "    </tr>\n",
       "    <tr>\n",
       "      <th>10797</th>\n",
       "      <td>Reservoir</td>\n",
       "      <td>3</td>\n",
       "      <td>h</td>\n",
       "      <td>526250.0</td>\n",
       "      <td>SP</td>\n",
       "      <td>Barry</td>\n",
       "      <td>8/07/2017</td>\n",
       "      <td>12.0</td>\n",
       "      <td>3073.0</td>\n",
       "      <td>3.0</td>\n",
       "      <td>1.0</td>\n",
       "      <td>1.0</td>\n",
       "      <td>308.0</td>\n",
       "      <td>NaN</td>\n",
       "      <td>-37.72828</td>\n",
       "      <td>145.03033</td>\n",
       "      <td>Northern Metropolitan</td>\n",
       "    </tr>\n",
       "    <tr>\n",
       "      <th>12213</th>\n",
       "      <td>Aberfeldie</td>\n",
       "      <td>4</td>\n",
       "      <td>h</td>\n",
       "      <td>1436000.0</td>\n",
       "      <td>S</td>\n",
       "      <td>Brad</td>\n",
       "      <td>3/09/2017</td>\n",
       "      <td>7.5</td>\n",
       "      <td>3040.0</td>\n",
       "      <td>4.0</td>\n",
       "      <td>3.0</td>\n",
       "      <td>3.0</td>\n",
       "      <td>511.0</td>\n",
       "      <td>NaN</td>\n",
       "      <td>-37.75788</td>\n",
       "      <td>144.90487</td>\n",
       "      <td>Western Metropolitan</td>\n",
       "    </tr>\n",
       "    <tr>\n",
       "      <th>12214</th>\n",
       "      <td>Albion</td>\n",
       "      <td>5</td>\n",
       "      <td>h</td>\n",
       "      <td>905000.0</td>\n",
       "      <td>S</td>\n",
       "      <td>hockingstuart</td>\n",
       "      <td>3/09/2017</td>\n",
       "      <td>10.5</td>\n",
       "      <td>3020.0</td>\n",
       "      <td>5.0</td>\n",
       "      <td>2.0</td>\n",
       "      <td>3.0</td>\n",
       "      <td>732.0</td>\n",
       "      <td>NaN</td>\n",
       "      <td>-37.78345</td>\n",
       "      <td>144.82295</td>\n",
       "      <td>Western Metropolitan</td>\n",
       "    </tr>\n",
       "    <tr>\n",
       "      <th>12215</th>\n",
       "      <td>Alphington</td>\n",
       "      <td>4</td>\n",
       "      <td>h</td>\n",
       "      <td>1680000.0</td>\n",
       "      <td>S</td>\n",
       "      <td>Love</td>\n",
       "      <td>3/09/2017</td>\n",
       "      <td>5.7</td>\n",
       "      <td>3078.0</td>\n",
       "      <td>4.0</td>\n",
       "      <td>3.0</td>\n",
       "      <td>2.0</td>\n",
       "      <td>720.0</td>\n",
       "      <td>NaN</td>\n",
       "      <td>-37.77928</td>\n",
       "      <td>145.02993</td>\n",
       "      <td>Northern Metropolitan</td>\n",
       "    </tr>\n",
       "  </tbody>\n",
       "</table>\n",
       "</div>"
      ],
      "text/plain": [
       "              Suburb  Rooms Type      Price Method        SellerG        Date  \\\n",
       "7584   Brighton East      3    h  1270000.0     VB            Ray  20/05/2017   \n",
       "10797      Reservoir      3    h   526250.0     SP          Barry   8/07/2017   \n",
       "12213     Aberfeldie      4    h  1436000.0      S           Brad   3/09/2017   \n",
       "12214         Albion      5    h   905000.0      S  hockingstuart   3/09/2017   \n",
       "12215     Alphington      4    h  1680000.0      S           Love   3/09/2017   \n",
       "\n",
       "       Distance  Postcode  Bedroom2  Bathroom  Car  Landsize CouncilArea  \\\n",
       "7584       10.7    3187.0       3.0       1.0  3.0     724.0         NaN   \n",
       "10797      12.0    3073.0       3.0       1.0  1.0     308.0         NaN   \n",
       "12213       7.5    3040.0       4.0       3.0  3.0     511.0         NaN   \n",
       "12214      10.5    3020.0       5.0       2.0  3.0     732.0         NaN   \n",
       "12215       5.7    3078.0       4.0       3.0  2.0     720.0         NaN   \n",
       "\n",
       "       Lattitude  Longtitude             Regionname  \n",
       "7584   -37.92910   145.02970  Southern Metropolitan  \n",
       "10797  -37.72828   145.03033  Northern Metropolitan  \n",
       "12213  -37.75788   144.90487   Western Metropolitan  \n",
       "12214  -37.78345   144.82295   Western Metropolitan  \n",
       "12215  -37.77928   145.02993  Northern Metropolitan  "
      ]
     },
     "execution_count": 18,
     "metadata": {},
     "output_type": "execute_result"
    }
   ],
   "source": [
    "council_empty.head()"
   ]
  },
  {
   "cell_type": "code",
   "execution_count": 20,
   "metadata": {},
   "outputs": [],
   "source": [
    "final_council = []\n",
    "for index, row in council_empty.iterrows():\n",
    "    point1 = np.array((row['Lattitude'], row['Longtitude']))\n",
    "    dists = []\n",
    "    for index2, row2 in mean_latlong.iterrows():\n",
    "        point2 = np.array((row2['Lattitude'], row2['Longtitude']))\n",
    "        dist  = np.linalg.norm(point1 - point2)\n",
    "        dists.append(dist)\n",
    "    min_index = dists.index(min(dists))\n",
    "    final_council.append(mean_latlong.iloc[min_index,0])\n",
    "\n",
    "council_empty.loc[:,('CouncilArea')] = final_council"
   ]
  },
  {
   "cell_type": "code",
   "execution_count": 21,
   "metadata": {},
   "outputs": [
    {
     "data": {
      "text/html": [
       "<div>\n",
       "<style scoped>\n",
       "    .dataframe tbody tr th:only-of-type {\n",
       "        vertical-align: middle;\n",
       "    }\n",
       "\n",
       "    .dataframe tbody tr th {\n",
       "        vertical-align: top;\n",
       "    }\n",
       "\n",
       "    .dataframe thead th {\n",
       "        text-align: right;\n",
       "    }\n",
       "</style>\n",
       "<table border=\"1\" class=\"dataframe\">\n",
       "  <thead>\n",
       "    <tr style=\"text-align: right;\">\n",
       "      <th></th>\n",
       "      <th>Suburb</th>\n",
       "      <th>Rooms</th>\n",
       "      <th>Type</th>\n",
       "      <th>Price</th>\n",
       "      <th>Method</th>\n",
       "      <th>SellerG</th>\n",
       "      <th>Date</th>\n",
       "      <th>Distance</th>\n",
       "      <th>Postcode</th>\n",
       "      <th>Bedroom2</th>\n",
       "      <th>Bathroom</th>\n",
       "      <th>Car</th>\n",
       "      <th>Landsize</th>\n",
       "      <th>CouncilArea</th>\n",
       "      <th>Lattitude</th>\n",
       "      <th>Longtitude</th>\n",
       "      <th>Regionname</th>\n",
       "    </tr>\n",
       "  </thead>\n",
       "  <tbody>\n",
       "    <tr>\n",
       "      <th>7584</th>\n",
       "      <td>Brighton East</td>\n",
       "      <td>3</td>\n",
       "      <td>h</td>\n",
       "      <td>1270000.0</td>\n",
       "      <td>VB</td>\n",
       "      <td>Ray</td>\n",
       "      <td>20/05/2017</td>\n",
       "      <td>10.7</td>\n",
       "      <td>3187.0</td>\n",
       "      <td>3.0</td>\n",
       "      <td>1.0</td>\n",
       "      <td>3.0</td>\n",
       "      <td>724.0</td>\n",
       "      <td>Bayside</td>\n",
       "      <td>-37.92910</td>\n",
       "      <td>145.02970</td>\n",
       "      <td>Southern Metropolitan</td>\n",
       "    </tr>\n",
       "    <tr>\n",
       "      <th>10797</th>\n",
       "      <td>Reservoir</td>\n",
       "      <td>3</td>\n",
       "      <td>h</td>\n",
       "      <td>526250.0</td>\n",
       "      <td>SP</td>\n",
       "      <td>Barry</td>\n",
       "      <td>8/07/2017</td>\n",
       "      <td>12.0</td>\n",
       "      <td>3073.0</td>\n",
       "      <td>3.0</td>\n",
       "      <td>1.0</td>\n",
       "      <td>1.0</td>\n",
       "      <td>308.0</td>\n",
       "      <td>Darebin</td>\n",
       "      <td>-37.72828</td>\n",
       "      <td>145.03033</td>\n",
       "      <td>Northern Metropolitan</td>\n",
       "    </tr>\n",
       "    <tr>\n",
       "      <th>12213</th>\n",
       "      <td>Aberfeldie</td>\n",
       "      <td>4</td>\n",
       "      <td>h</td>\n",
       "      <td>1436000.0</td>\n",
       "      <td>S</td>\n",
       "      <td>Brad</td>\n",
       "      <td>3/09/2017</td>\n",
       "      <td>7.5</td>\n",
       "      <td>3040.0</td>\n",
       "      <td>4.0</td>\n",
       "      <td>3.0</td>\n",
       "      <td>3.0</td>\n",
       "      <td>511.0</td>\n",
       "      <td>Moonee Valley</td>\n",
       "      <td>-37.75788</td>\n",
       "      <td>144.90487</td>\n",
       "      <td>Western Metropolitan</td>\n",
       "    </tr>\n",
       "    <tr>\n",
       "      <th>12214</th>\n",
       "      <td>Albion</td>\n",
       "      <td>5</td>\n",
       "      <td>h</td>\n",
       "      <td>905000.0</td>\n",
       "      <td>S</td>\n",
       "      <td>hockingstuart</td>\n",
       "      <td>3/09/2017</td>\n",
       "      <td>10.5</td>\n",
       "      <td>3020.0</td>\n",
       "      <td>5.0</td>\n",
       "      <td>2.0</td>\n",
       "      <td>3.0</td>\n",
       "      <td>732.0</td>\n",
       "      <td>Brimbank</td>\n",
       "      <td>-37.78345</td>\n",
       "      <td>144.82295</td>\n",
       "      <td>Western Metropolitan</td>\n",
       "    </tr>\n",
       "    <tr>\n",
       "      <th>12215</th>\n",
       "      <td>Alphington</td>\n",
       "      <td>4</td>\n",
       "      <td>h</td>\n",
       "      <td>1680000.0</td>\n",
       "      <td>S</td>\n",
       "      <td>Love</td>\n",
       "      <td>3/09/2017</td>\n",
       "      <td>5.7</td>\n",
       "      <td>3078.0</td>\n",
       "      <td>4.0</td>\n",
       "      <td>3.0</td>\n",
       "      <td>2.0</td>\n",
       "      <td>720.0</td>\n",
       "      <td>Darebin</td>\n",
       "      <td>-37.77928</td>\n",
       "      <td>145.02993</td>\n",
       "      <td>Northern Metropolitan</td>\n",
       "    </tr>\n",
       "  </tbody>\n",
       "</table>\n",
       "</div>"
      ],
      "text/plain": [
       "              Suburb  Rooms Type      Price Method        SellerG        Date  \\\n",
       "7584   Brighton East      3    h  1270000.0     VB            Ray  20/05/2017   \n",
       "10797      Reservoir      3    h   526250.0     SP          Barry   8/07/2017   \n",
       "12213     Aberfeldie      4    h  1436000.0      S           Brad   3/09/2017   \n",
       "12214         Albion      5    h   905000.0      S  hockingstuart   3/09/2017   \n",
       "12215     Alphington      4    h  1680000.0      S           Love   3/09/2017   \n",
       "\n",
       "       Distance  Postcode  Bedroom2  Bathroom  Car  Landsize    CouncilArea  \\\n",
       "7584       10.7    3187.0       3.0       1.0  3.0     724.0        Bayside   \n",
       "10797      12.0    3073.0       3.0       1.0  1.0     308.0        Darebin   \n",
       "12213       7.5    3040.0       4.0       3.0  3.0     511.0  Moonee Valley   \n",
       "12214      10.5    3020.0       5.0       2.0  3.0     732.0       Brimbank   \n",
       "12215       5.7    3078.0       4.0       3.0  2.0     720.0        Darebin   \n",
       "\n",
       "       Lattitude  Longtitude             Regionname  \n",
       "7584   -37.92910   145.02970  Southern Metropolitan  \n",
       "10797  -37.72828   145.03033  Northern Metropolitan  \n",
       "12213  -37.75788   144.90487   Western Metropolitan  \n",
       "12214  -37.78345   144.82295   Western Metropolitan  \n",
       "12215  -37.77928   145.02993  Northern Metropolitan  "
      ]
     },
     "execution_count": 21,
     "metadata": {},
     "output_type": "execute_result"
    }
   ],
   "source": [
    "council_empty.head()"
   ]
  },
  {
   "cell_type": "code",
   "execution_count": 22,
   "metadata": {},
   "outputs": [],
   "source": [
    "data[data['CouncilArea'].isna()] = council_empty"
   ]
  },
  {
   "cell_type": "code",
   "execution_count": 23,
   "metadata": {
    "scrolled": true
   },
   "outputs": [
    {
     "data": {
      "text/plain": [
       "Suburb         0\n",
       "Rooms          0\n",
       "Type           0\n",
       "Price          0\n",
       "Method         0\n",
       "SellerG        0\n",
       "Date           0\n",
       "Distance       0\n",
       "Postcode       0\n",
       "Bedroom2       0\n",
       "Bathroom       0\n",
       "Car            0\n",
       "Landsize       0\n",
       "CouncilArea    0\n",
       "Lattitude      0\n",
       "Longtitude     0\n",
       "Regionname     0\n",
       "dtype: int64"
      ]
     },
     "execution_count": 23,
     "metadata": {},
     "output_type": "execute_result"
    }
   ],
   "source": [
    "data.isna().sum()"
   ]
  },
  {
   "cell_type": "markdown",
   "metadata": {},
   "source": [
    "Now we have data without any missing values. Now lets explore the data with various plots and processing data wherever necessary"
   ]
  },
  {
   "cell_type": "markdown",
   "metadata": {},
   "source": [
    "First of all, we know that number of Rooms cannot be less than number of bedrooms in a house. So find that and drop those values because they are outliers"
   ]
  },
  {
   "cell_type": "code",
   "execution_count": 24,
   "metadata": {},
   "outputs": [
    {
     "data": {
      "text/html": [
       "<div>\n",
       "<style scoped>\n",
       "    .dataframe tbody tr th:only-of-type {\n",
       "        vertical-align: middle;\n",
       "    }\n",
       "\n",
       "    .dataframe tbody tr th {\n",
       "        vertical-align: top;\n",
       "    }\n",
       "\n",
       "    .dataframe thead th {\n",
       "        text-align: right;\n",
       "    }\n",
       "</style>\n",
       "<table border=\"1\" class=\"dataframe\">\n",
       "  <thead>\n",
       "    <tr style=\"text-align: right;\">\n",
       "      <th></th>\n",
       "      <th>Suburb</th>\n",
       "      <th>Rooms</th>\n",
       "      <th>Type</th>\n",
       "      <th>Price</th>\n",
       "      <th>Method</th>\n",
       "      <th>SellerG</th>\n",
       "      <th>Date</th>\n",
       "      <th>Distance</th>\n",
       "      <th>Postcode</th>\n",
       "      <th>Bedroom2</th>\n",
       "      <th>Bathroom</th>\n",
       "      <th>Car</th>\n",
       "      <th>Landsize</th>\n",
       "      <th>CouncilArea</th>\n",
       "      <th>Lattitude</th>\n",
       "      <th>Longtitude</th>\n",
       "      <th>Regionname</th>\n",
       "    </tr>\n",
       "  </thead>\n",
       "  <tbody>\n",
       "    <tr>\n",
       "      <th>6</th>\n",
       "      <td>Abbotsford</td>\n",
       "      <td>3</td>\n",
       "      <td>h</td>\n",
       "      <td>1876000.0</td>\n",
       "      <td>S</td>\n",
       "      <td>Nelson</td>\n",
       "      <td>7/05/2016</td>\n",
       "      <td>2.5</td>\n",
       "      <td>3067.0</td>\n",
       "      <td>4.0</td>\n",
       "      <td>2.0</td>\n",
       "      <td>0.0</td>\n",
       "      <td>245.0</td>\n",
       "      <td>Yarra</td>\n",
       "      <td>-37.80240</td>\n",
       "      <td>144.99930</td>\n",
       "      <td>Northern Metropolitan</td>\n",
       "    </tr>\n",
       "    <tr>\n",
       "      <th>9</th>\n",
       "      <td>Abbotsford</td>\n",
       "      <td>2</td>\n",
       "      <td>h</td>\n",
       "      <td>1097000.0</td>\n",
       "      <td>S</td>\n",
       "      <td>Biggin</td>\n",
       "      <td>8/10/2016</td>\n",
       "      <td>2.5</td>\n",
       "      <td>3067.0</td>\n",
       "      <td>3.0</td>\n",
       "      <td>1.0</td>\n",
       "      <td>2.0</td>\n",
       "      <td>220.0</td>\n",
       "      <td>Yarra</td>\n",
       "      <td>-37.80100</td>\n",
       "      <td>144.99890</td>\n",
       "      <td>Northern Metropolitan</td>\n",
       "    </tr>\n",
       "    <tr>\n",
       "      <th>63</th>\n",
       "      <td>Airport West</td>\n",
       "      <td>4</td>\n",
       "      <td>h</td>\n",
       "      <td>773000.0</td>\n",
       "      <td>S</td>\n",
       "      <td>Brad</td>\n",
       "      <td>17/09/2016</td>\n",
       "      <td>13.5</td>\n",
       "      <td>3042.0</td>\n",
       "      <td>5.0</td>\n",
       "      <td>3.0</td>\n",
       "      <td>4.0</td>\n",
       "      <td>531.0</td>\n",
       "      <td>Moonee Valley</td>\n",
       "      <td>-37.72630</td>\n",
       "      <td>144.86790</td>\n",
       "      <td>Western Metropolitan</td>\n",
       "    </tr>\n",
       "    <tr>\n",
       "      <th>207</th>\n",
       "      <td>Altona North</td>\n",
       "      <td>3</td>\n",
       "      <td>h</td>\n",
       "      <td>620000.0</td>\n",
       "      <td>SP</td>\n",
       "      <td>Hunter</td>\n",
       "      <td>22/08/2016</td>\n",
       "      <td>11.1</td>\n",
       "      <td>3025.0</td>\n",
       "      <td>5.0</td>\n",
       "      <td>2.0</td>\n",
       "      <td>2.0</td>\n",
       "      <td>276.0</td>\n",
       "      <td>Hobsons Bay</td>\n",
       "      <td>-37.82620</td>\n",
       "      <td>144.84430</td>\n",
       "      <td>Western Metropolitan</td>\n",
       "    </tr>\n",
       "    <tr>\n",
       "      <th>233</th>\n",
       "      <td>Armadale</td>\n",
       "      <td>2</td>\n",
       "      <td>u</td>\n",
       "      <td>3625000.0</td>\n",
       "      <td>S</td>\n",
       "      <td>Jellis</td>\n",
       "      <td>4/06/2016</td>\n",
       "      <td>6.3</td>\n",
       "      <td>3143.0</td>\n",
       "      <td>3.0</td>\n",
       "      <td>2.0</td>\n",
       "      <td>2.0</td>\n",
       "      <td>0.0</td>\n",
       "      <td>Stonnington</td>\n",
       "      <td>-37.85550</td>\n",
       "      <td>145.02910</td>\n",
       "      <td>Southern Metropolitan</td>\n",
       "    </tr>\n",
       "    <tr>\n",
       "      <th>...</th>\n",
       "      <td>...</td>\n",
       "      <td>...</td>\n",
       "      <td>...</td>\n",
       "      <td>...</td>\n",
       "      <td>...</td>\n",
       "      <td>...</td>\n",
       "      <td>...</td>\n",
       "      <td>...</td>\n",
       "      <td>...</td>\n",
       "      <td>...</td>\n",
       "      <td>...</td>\n",
       "      <td>...</td>\n",
       "      <td>...</td>\n",
       "      <td>...</td>\n",
       "      <td>...</td>\n",
       "      <td>...</td>\n",
       "      <td>...</td>\n",
       "    </tr>\n",
       "    <tr>\n",
       "      <th>11536</th>\n",
       "      <td>Watsonia North</td>\n",
       "      <td>3</td>\n",
       "      <td>h</td>\n",
       "      <td>740000.0</td>\n",
       "      <td>SP</td>\n",
       "      <td>Barry</td>\n",
       "      <td>15/07/2017</td>\n",
       "      <td>14.5</td>\n",
       "      <td>3087.0</td>\n",
       "      <td>4.0</td>\n",
       "      <td>1.0</td>\n",
       "      <td>2.0</td>\n",
       "      <td>909.0</td>\n",
       "      <td>Banyule</td>\n",
       "      <td>-37.70255</td>\n",
       "      <td>145.08578</td>\n",
       "      <td>Northern Metropolitan</td>\n",
       "    </tr>\n",
       "    <tr>\n",
       "      <th>11579</th>\n",
       "      <td>Aspendale</td>\n",
       "      <td>3</td>\n",
       "      <td>h</td>\n",
       "      <td>970000.0</td>\n",
       "      <td>VB</td>\n",
       "      <td>hockingstuart</td>\n",
       "      <td>22/07/2017</td>\n",
       "      <td>21.5</td>\n",
       "      <td>3195.0</td>\n",
       "      <td>4.0</td>\n",
       "      <td>2.0</td>\n",
       "      <td>2.0</td>\n",
       "      <td>612.0</td>\n",
       "      <td>Kingston</td>\n",
       "      <td>-38.01596</td>\n",
       "      <td>145.09932</td>\n",
       "      <td>South-Eastern Metropolitan</td>\n",
       "    </tr>\n",
       "    <tr>\n",
       "      <th>11846</th>\n",
       "      <td>Toorak</td>\n",
       "      <td>1</td>\n",
       "      <td>u</td>\n",
       "      <td>350000.0</td>\n",
       "      <td>VB</td>\n",
       "      <td>Marshall</td>\n",
       "      <td>22/07/2017</td>\n",
       "      <td>4.1</td>\n",
       "      <td>3142.0</td>\n",
       "      <td>2.0</td>\n",
       "      <td>1.0</td>\n",
       "      <td>1.0</td>\n",
       "      <td>0.0</td>\n",
       "      <td>Stonnington</td>\n",
       "      <td>-37.84157</td>\n",
       "      <td>145.00469</td>\n",
       "      <td>Southern Metropolitan</td>\n",
       "    </tr>\n",
       "    <tr>\n",
       "      <th>12411</th>\n",
       "      <td>Thornbury</td>\n",
       "      <td>3</td>\n",
       "      <td>h</td>\n",
       "      <td>1375000.0</td>\n",
       "      <td>S</td>\n",
       "      <td>McGrath</td>\n",
       "      <td>3/09/2017</td>\n",
       "      <td>7.0</td>\n",
       "      <td>3071.0</td>\n",
       "      <td>4.0</td>\n",
       "      <td>2.0</td>\n",
       "      <td>3.0</td>\n",
       "      <td>530.0</td>\n",
       "      <td>Darebin</td>\n",
       "      <td>-37.75968</td>\n",
       "      <td>145.02305</td>\n",
       "      <td>Northern Metropolitan</td>\n",
       "    </tr>\n",
       "    <tr>\n",
       "      <th>12926</th>\n",
       "      <td>Burwood East</td>\n",
       "      <td>3</td>\n",
       "      <td>h</td>\n",
       "      <td>1000000.0</td>\n",
       "      <td>VB</td>\n",
       "      <td>Fletchers</td>\n",
       "      <td>19/08/2017</td>\n",
       "      <td>14.7</td>\n",
       "      <td>3151.0</td>\n",
       "      <td>4.0</td>\n",
       "      <td>2.0</td>\n",
       "      <td>2.0</td>\n",
       "      <td>788.0</td>\n",
       "      <td>Whitehorse</td>\n",
       "      <td>-37.85985</td>\n",
       "      <td>145.15656</td>\n",
       "      <td>Eastern Metropolitan</td>\n",
       "    </tr>\n",
       "  </tbody>\n",
       "</table>\n",
       "<p>203 rows × 17 columns</p>\n",
       "</div>"
      ],
      "text/plain": [
       "               Suburb  Rooms Type      Price Method        SellerG  \\\n",
       "6          Abbotsford      3    h  1876000.0      S         Nelson   \n",
       "9          Abbotsford      2    h  1097000.0      S         Biggin   \n",
       "63       Airport West      4    h   773000.0      S           Brad   \n",
       "207      Altona North      3    h   620000.0     SP         Hunter   \n",
       "233          Armadale      2    u  3625000.0      S         Jellis   \n",
       "...               ...    ...  ...        ...    ...            ...   \n",
       "11536  Watsonia North      3    h   740000.0     SP          Barry   \n",
       "11579       Aspendale      3    h   970000.0     VB  hockingstuart   \n",
       "11846          Toorak      1    u   350000.0     VB       Marshall   \n",
       "12411       Thornbury      3    h  1375000.0      S        McGrath   \n",
       "12926    Burwood East      3    h  1000000.0     VB      Fletchers   \n",
       "\n",
       "             Date  Distance  Postcode  Bedroom2  Bathroom  Car  Landsize  \\\n",
       "6       7/05/2016       2.5    3067.0       4.0       2.0  0.0     245.0   \n",
       "9       8/10/2016       2.5    3067.0       3.0       1.0  2.0     220.0   \n",
       "63     17/09/2016      13.5    3042.0       5.0       3.0  4.0     531.0   \n",
       "207    22/08/2016      11.1    3025.0       5.0       2.0  2.0     276.0   \n",
       "233     4/06/2016       6.3    3143.0       3.0       2.0  2.0       0.0   \n",
       "...           ...       ...       ...       ...       ...  ...       ...   \n",
       "11536  15/07/2017      14.5    3087.0       4.0       1.0  2.0     909.0   \n",
       "11579  22/07/2017      21.5    3195.0       4.0       2.0  2.0     612.0   \n",
       "11846  22/07/2017       4.1    3142.0       2.0       1.0  1.0       0.0   \n",
       "12411   3/09/2017       7.0    3071.0       4.0       2.0  3.0     530.0   \n",
       "12926  19/08/2017      14.7    3151.0       4.0       2.0  2.0     788.0   \n",
       "\n",
       "         CouncilArea  Lattitude  Longtitude                  Regionname  \n",
       "6              Yarra  -37.80240   144.99930       Northern Metropolitan  \n",
       "9              Yarra  -37.80100   144.99890       Northern Metropolitan  \n",
       "63     Moonee Valley  -37.72630   144.86790        Western Metropolitan  \n",
       "207      Hobsons Bay  -37.82620   144.84430        Western Metropolitan  \n",
       "233      Stonnington  -37.85550   145.02910       Southern Metropolitan  \n",
       "...              ...        ...         ...                         ...  \n",
       "11536        Banyule  -37.70255   145.08578       Northern Metropolitan  \n",
       "11579       Kingston  -38.01596   145.09932  South-Eastern Metropolitan  \n",
       "11846    Stonnington  -37.84157   145.00469       Southern Metropolitan  \n",
       "12411        Darebin  -37.75968   145.02305       Northern Metropolitan  \n",
       "12926     Whitehorse  -37.85985   145.15656        Eastern Metropolitan  \n",
       "\n",
       "[203 rows x 17 columns]"
      ]
     },
     "execution_count": 24,
     "metadata": {},
     "output_type": "execute_result"
    }
   ],
   "source": [
    "data[data['Bedroom2']>data['Rooms']]"
   ]
  },
  {
   "cell_type": "code",
   "execution_count": 25,
   "metadata": {
    "scrolled": true
   },
   "outputs": [],
   "source": [
    "data.drop(data[data['Bedroom2']>data['Rooms']].index,inplace=True)"
   ]
  },
  {
   "cell_type": "markdown",
   "metadata": {},
   "source": [
    "Lets look at the scatter plot between different columns and price"
   ]
  },
  {
   "cell_type": "code",
   "execution_count": 26,
   "metadata": {},
   "outputs": [
    {
     "data": {
      "image/png": "[encoded data removed]",
      "text/plain": [
       "<Figure size 1152x1008 with 9 Axes>"
      ]
     },
     "metadata": {
      "needs_background": "light"
     },
     "output_type": "display_data"
    }
   ],
   "source": [
    "plt.figure(figsize=(16,14))\n",
    "for index, row in zip(range(9),['Rooms','Type','Method','Bedroom2','Bathroom','Car','Landsize','Lattitude','Regionname']):\n",
    "    sns.scatterplot(x=row,y='Price',data=data,ax=plt.subplot(3,3,index+1))\n",
    "    if(row=='Regionname'):\n",
    "        plt.xticks(rotation=90)"
   ]
  },
  {
   "cell_type": "markdown",
   "metadata": {},
   "source": [
    "First lets look at Landsize column as we can see a lot of skewness in the chart."
   ]
  },
  {
   "cell_type": "code",
   "execution_count": 27,
   "metadata": {
    "scrolled": false
   },
   "outputs": [
    {
     "data": {
      "text/html": [
       "<div>\n",
       "<style scoped>\n",
       "    .dataframe tbody tr th:only-of-type {\n",
       "        vertical-align: middle;\n",
       "    }\n",
       "\n",
       "    .dataframe tbody tr th {\n",
       "        vertical-align: top;\n",
       "    }\n",
       "\n",
       "    .dataframe thead th {\n",
       "        text-align: right;\n",
       "    }\n",
       "</style>\n",
       "<table border=\"1\" class=\"dataframe\">\n",
       "  <thead>\n",
       "    <tr style=\"text-align: right;\">\n",
       "      <th></th>\n",
       "      <th>Suburb</th>\n",
       "      <th>Rooms</th>\n",
       "      <th>Type</th>\n",
       "      <th>Price</th>\n",
       "      <th>Method</th>\n",
       "      <th>SellerG</th>\n",
       "      <th>Date</th>\n",
       "      <th>Distance</th>\n",
       "      <th>Postcode</th>\n",
       "      <th>Bedroom2</th>\n",
       "      <th>Bathroom</th>\n",
       "      <th>Car</th>\n",
       "      <th>Landsize</th>\n",
       "      <th>CouncilArea</th>\n",
       "      <th>Lattitude</th>\n",
       "      <th>Longtitude</th>\n",
       "      <th>Regionname</th>\n",
       "    </tr>\n",
       "  </thead>\n",
       "  <tbody>\n",
       "    <tr>\n",
       "      <th>687</th>\n",
       "      <td>Balwyn North</td>\n",
       "      <td>3</td>\n",
       "      <td>h</td>\n",
       "      <td>2000000.0</td>\n",
       "      <td>VB</td>\n",
       "      <td>Kay</td>\n",
       "      <td>28/08/2016</td>\n",
       "      <td>9.2</td>\n",
       "      <td>3104.0</td>\n",
       "      <td>3.0</td>\n",
       "      <td>1.0</td>\n",
       "      <td>2.0</td>\n",
       "      <td>75100.0</td>\n",
       "      <td>Boroondara</td>\n",
       "      <td>-37.80020</td>\n",
       "      <td>145.07000</td>\n",
       "      <td>Southern Metropolitan</td>\n",
       "    </tr>\n",
       "    <tr>\n",
       "      <th>3942</th>\n",
       "      <td>Maribyrnong</td>\n",
       "      <td>2</td>\n",
       "      <td>u</td>\n",
       "      <td>495000.0</td>\n",
       "      <td>S</td>\n",
       "      <td>Brad</td>\n",
       "      <td>18/03/2017</td>\n",
       "      <td>8.7</td>\n",
       "      <td>3032.0</td>\n",
       "      <td>2.0</td>\n",
       "      <td>2.0</td>\n",
       "      <td>2.0</td>\n",
       "      <td>37000.0</td>\n",
       "      <td>Maribyrnong</td>\n",
       "      <td>-37.77520</td>\n",
       "      <td>144.89250</td>\n",
       "      <td>Western Metropolitan</td>\n",
       "    </tr>\n",
       "    <tr>\n",
       "      <th>5194</th>\n",
       "      <td>Reservoir</td>\n",
       "      <td>3</td>\n",
       "      <td>h</td>\n",
       "      <td>572000.0</td>\n",
       "      <td>S</td>\n",
       "      <td>Ray</td>\n",
       "      <td>23/04/2016</td>\n",
       "      <td>11.2</td>\n",
       "      <td>3073.0</td>\n",
       "      <td>3.0</td>\n",
       "      <td>1.0</td>\n",
       "      <td>2.0</td>\n",
       "      <td>41400.0</td>\n",
       "      <td>Darebin</td>\n",
       "      <td>-37.71040</td>\n",
       "      <td>145.02570</td>\n",
       "      <td>Northern Metropolitan</td>\n",
       "    </tr>\n",
       "    <tr>\n",
       "      <th>9223</th>\n",
       "      <td>Maribyrnong</td>\n",
       "      <td>2</td>\n",
       "      <td>u</td>\n",
       "      <td>585000.0</td>\n",
       "      <td>S</td>\n",
       "      <td>Brad</td>\n",
       "      <td>3/06/2017</td>\n",
       "      <td>4.3</td>\n",
       "      <td>3032.0</td>\n",
       "      <td>2.0</td>\n",
       "      <td>2.0</td>\n",
       "      <td>2.0</td>\n",
       "      <td>37000.0</td>\n",
       "      <td>Maribyrnong</td>\n",
       "      <td>-37.77518</td>\n",
       "      <td>144.89254</td>\n",
       "      <td>Western Metropolitan</td>\n",
       "    </tr>\n",
       "    <tr>\n",
       "      <th>10045</th>\n",
       "      <td>Silvan</td>\n",
       "      <td>4</td>\n",
       "      <td>h</td>\n",
       "      <td>1070000.0</td>\n",
       "      <td>S</td>\n",
       "      <td>Ray</td>\n",
       "      <td>24/06/2017</td>\n",
       "      <td>34.6</td>\n",
       "      <td>3795.0</td>\n",
       "      <td>4.0</td>\n",
       "      <td>2.0</td>\n",
       "      <td>3.0</td>\n",
       "      <td>38490.0</td>\n",
       "      <td>Yarra Ranges</td>\n",
       "      <td>-37.83229</td>\n",
       "      <td>145.43003</td>\n",
       "      <td>Eastern Victoria</td>\n",
       "    </tr>\n",
       "    <tr>\n",
       "      <th>10504</th>\n",
       "      <td>Silvan</td>\n",
       "      <td>3</td>\n",
       "      <td>h</td>\n",
       "      <td>1085000.0</td>\n",
       "      <td>S</td>\n",
       "      <td>Harcourts</td>\n",
       "      <td>27/05/2017</td>\n",
       "      <td>34.6</td>\n",
       "      <td>3795.0</td>\n",
       "      <td>3.0</td>\n",
       "      <td>2.0</td>\n",
       "      <td>2.0</td>\n",
       "      <td>76000.0</td>\n",
       "      <td>Yarra Ranges</td>\n",
       "      <td>-37.84739</td>\n",
       "      <td>145.47052</td>\n",
       "      <td>Eastern Victoria</td>\n",
       "    </tr>\n",
       "    <tr>\n",
       "      <th>11020</th>\n",
       "      <td>Fitzroy</td>\n",
       "      <td>3</td>\n",
       "      <td>h</td>\n",
       "      <td>2700000.0</td>\n",
       "      <td>VB</td>\n",
       "      <td>Kay</td>\n",
       "      <td>12/08/2017</td>\n",
       "      <td>2.1</td>\n",
       "      <td>3065.0</td>\n",
       "      <td>3.0</td>\n",
       "      <td>3.0</td>\n",
       "      <td>1.0</td>\n",
       "      <td>433014.0</td>\n",
       "      <td>Yarra</td>\n",
       "      <td>-37.79751</td>\n",
       "      <td>144.98309</td>\n",
       "      <td>Northern Metropolitan</td>\n",
       "    </tr>\n",
       "    <tr>\n",
       "      <th>11371</th>\n",
       "      <td>Gisborne</td>\n",
       "      <td>4</td>\n",
       "      <td>h</td>\n",
       "      <td>807000.0</td>\n",
       "      <td>S</td>\n",
       "      <td>Raine</td>\n",
       "      <td>15/07/2017</td>\n",
       "      <td>45.9</td>\n",
       "      <td>3437.0</td>\n",
       "      <td>4.0</td>\n",
       "      <td>2.0</td>\n",
       "      <td>3.0</td>\n",
       "      <td>40468.0</td>\n",
       "      <td>Macedon Ranges</td>\n",
       "      <td>-37.50929</td>\n",
       "      <td>144.56444</td>\n",
       "      <td>Northern Victoria</td>\n",
       "    </tr>\n",
       "    <tr>\n",
       "      <th>13245</th>\n",
       "      <td>New Gisborne</td>\n",
       "      <td>5</td>\n",
       "      <td>h</td>\n",
       "      <td>1355000.0</td>\n",
       "      <td>S</td>\n",
       "      <td>Raine</td>\n",
       "      <td>23/09/2017</td>\n",
       "      <td>48.1</td>\n",
       "      <td>3438.0</td>\n",
       "      <td>5.0</td>\n",
       "      <td>3.0</td>\n",
       "      <td>5.0</td>\n",
       "      <td>44500.0</td>\n",
       "      <td>Macedon Ranges</td>\n",
       "      <td>-37.45392</td>\n",
       "      <td>144.58864</td>\n",
       "      <td>Northern Victoria</td>\n",
       "    </tr>\n",
       "  </tbody>\n",
       "</table>\n",
       "</div>"
      ],
      "text/plain": [
       "             Suburb  Rooms Type      Price Method    SellerG        Date  \\\n",
       "687    Balwyn North      3    h  2000000.0     VB        Kay  28/08/2016   \n",
       "3942    Maribyrnong      2    u   495000.0      S       Brad  18/03/2017   \n",
       "5194      Reservoir      3    h   572000.0      S        Ray  23/04/2016   \n",
       "9223    Maribyrnong      2    u   585000.0      S       Brad   3/06/2017   \n",
       "10045        Silvan      4    h  1070000.0      S        Ray  24/06/2017   \n",
       "10504        Silvan      3    h  1085000.0      S  Harcourts  27/05/2017   \n",
       "11020       Fitzroy      3    h  2700000.0     VB        Kay  12/08/2017   \n",
       "11371      Gisborne      4    h   807000.0      S      Raine  15/07/2017   \n",
       "13245  New Gisborne      5    h  1355000.0      S      Raine  23/09/2017   \n",
       "\n",
       "       Distance  Postcode  Bedroom2  Bathroom  Car  Landsize     CouncilArea  \\\n",
       "687         9.2    3104.0       3.0       1.0  2.0   75100.0      Boroondara   \n",
       "3942        8.7    3032.0       2.0       2.0  2.0   37000.0     Maribyrnong   \n",
       "5194       11.2    3073.0       3.0       1.0  2.0   41400.0         Darebin   \n",
       "9223        4.3    3032.0       2.0       2.0  2.0   37000.0     Maribyrnong   \n",
       "10045      34.6    3795.0       4.0       2.0  3.0   38490.0    Yarra Ranges   \n",
       "10504      34.6    3795.0       3.0       2.0  2.0   76000.0    Yarra Ranges   \n",
       "11020       2.1    3065.0       3.0       3.0  1.0  433014.0           Yarra   \n",
       "11371      45.9    3437.0       4.0       2.0  3.0   40468.0  Macedon Ranges   \n",
       "13245      48.1    3438.0       5.0       3.0  5.0   44500.0  Macedon Ranges   \n",
       "\n",
       "       Lattitude  Longtitude             Regionname  \n",
       "687    -37.80020   145.07000  Southern Metropolitan  \n",
       "3942   -37.77520   144.89250   Western Metropolitan  \n",
       "5194   -37.71040   145.02570  Northern Metropolitan  \n",
       "9223   -37.77518   144.89254   Western Metropolitan  \n",
       "10045  -37.83229   145.43003       Eastern Victoria  \n",
       "10504  -37.84739   145.47052       Eastern Victoria  \n",
       "11020  -37.79751   144.98309  Northern Metropolitan  \n",
       "11371  -37.50929   144.56444      Northern Victoria  \n",
       "13245  -37.45392   144.58864      Northern Victoria  "
      ]
     },
     "execution_count": 27,
     "metadata": {},
     "output_type": "execute_result"
    }
   ],
   "source": [
    "data_temp = data[data['Landsize']>25000]\n",
    "data_temp"
   ]
  },
  {
   "cell_type": "markdown",
   "metadata": {},
   "source": [
    "We can see that the data is an outlier as the price is too low for the Landsize. Lets visualize this to prove this"
   ]
  },
  {
   "cell_type": "code",
   "execution_count": 28,
   "metadata": {},
   "outputs": [
    {
     "data": {
      "text/plain": [
       "<AxesSubplot:xlabel='Landsize', ylabel='Price'>"
      ]
     },
     "execution_count": 28,
     "metadata": {},
     "output_type": "execute_result"
    },
    {
     "data": {
      "image/png": "[encoded data removed]",
      "text/plain": [
       "<Figure size 432x288 with 1 Axes>"
      ]
     },
     "metadata": {
      "needs_background": "light"
     },
     "output_type": "display_data"
    }
   ],
   "source": [
    "sns.scatterplot(x='Landsize',y='Price',data=data)\n",
    "sns.scatterplot(x='Landsize',y='Price',data=data_temp,marker='o',s=100,color='r')"
   ]
  },
  {
   "cell_type": "markdown",
   "metadata": {},
   "source": [
    "We should drop these rows as:\n",
    "\n",
    "1. The data is an outlier\n",
    "2. We can see there are many values with Landsize as 0 which is not possible so we need to replace those variables with mean value. For having better mean value, we need to remove the outlier"
   ]
  },
  {
   "cell_type": "code",
   "execution_count": 29,
   "metadata": {},
   "outputs": [],
   "source": [
    "data.drop(data[(data['Landsize']>25000)].index, inplace=True)"
   ]
  },
  {
   "cell_type": "code",
   "execution_count": 30,
   "metadata": {},
   "outputs": [
    {
     "data": {
      "text/plain": [
       "582.2247818499127"
      ]
     },
     "execution_count": 30,
     "metadata": {},
     "output_type": "execute_result"
    }
   ],
   "source": [
    "data.drop(data[data['Landsize']==0].index)['Landsize'].mean()"
   ]
  },
  {
   "cell_type": "code",
   "execution_count": 31,
   "metadata": {},
   "outputs": [],
   "source": [
    "data['Landsize'] = data['Landsize'].replace(0,data.drop(data[data['Landsize']==0].index)['Landsize'].mean())"
   ]
  },
  {
   "cell_type": "markdown",
   "metadata": {},
   "source": [
    "#### From the above data we can visualize the following outliers:\n",
    "1. Room size greater than 7\n",
    "2. Bedroom2 with values greater than 6\n",
    "2. Bedroom2 with value 2 and price greater than 4000000\n",
    "2. Bathroom with values greater than 5\n",
    "3. Car with values greater than 6\n",
    "4. Landsize with values greater than 10000\n",
    "5. \"South-Eastern Metropolitan\" RegionName with Price greater than 7000000\n",
    "6. \"Southern Metropolitan\" RegionName with Price greater than 5000000\n",
    "\n",
    "I have commented out the lines that I tried for an outlier but commented them later because they weren't outlier\n",
    "\n",
    "We should remove these values as they can prove to be a outlier"
   ]
  },
  {
   "cell_type": "code",
   "execution_count": 32,
   "metadata": {},
   "outputs": [],
   "source": [
    "data.drop(data[data['Rooms']>7].index, inplace = True)\n",
    "# data.drop(data[(data['Rooms']==4) & (data['Price']>7000000)].index, inplace = True)\n",
    "# data.drop(data[(data['Rooms']==3) & (data['Price']>6000000)].index, inplace = True)\n",
    "# data.drop(data[(data['Rooms']==6) & (data['Price']>4000000)].index, inplace = True)\n",
    "# data.drop(data[(data['Rooms']==7) & (data['Price']>3500000)].index, inplace = True)\n",
    "# data.drop(data[(data['Type']=='h') & (data['Price']>8000000)].index, inplace = True)\n",
    "# data.drop(data[(data['Method']==\"PI\") & (data['Price']>6000000)].index, inplace = True)\n",
    "# data.drop(data[(data['Method']==\"VB\") & (data['Price']>6000000)].index, inplace = True)\n",
    "# data.drop(data[(data['Method']==\"S\") & (data['Price']>7000000)].index, inplace = True)\n",
    "data.drop(data[(data['Bedroom2']>6)].index, inplace = True)\n",
    "data.drop(data[(data['Bedroom2']==2) & (data['Price']>4000000)].index, inplace = True)\n",
    "data.drop(data[(data['Bathroom']>5)].index, inplace = True)\n",
    "data.drop(data[(data['Car']>6)].index, inplace = True)\n",
    "data.drop(data[(data['Landsize']>10000)].index, inplace = True)\n",
    "data.drop(data[(data['Regionname']==\"South-Eastern Metropolitan\") & (data['Price']>7000000)].index, inplace = True)\n",
    "data.drop(data[(data['Regionname']==\"Southern Metropolitan\") & (data['Price']>4500000)].index, inplace = True)"
   ]
  },
  {
   "cell_type": "markdown",
   "metadata": {},
   "source": [
    "Let us visualize the data both with Scatter plot and Histogram"
   ]
  },
  {
   "cell_type": "code",
   "execution_count": 33,
   "metadata": {},
   "outputs": [
    {
     "data": {
      "image/png": "[encoded data removed]",
      "text/plain": [
       "<Figure size 1152x1008 with 8 Axes>"
      ]
     },
     "metadata": {
      "needs_background": "light"
     },
     "output_type": "display_data"
    }
   ],
   "source": [
    "plt.figure(figsize=(16,14))\n",
    "for index, row in zip(range(9),['Rooms','Type','Method','Bedroom2','Landsize','Bathroom','Car','Regionname']):\n",
    "    sns.scatterplot(x=row,y='Price',data=data,ax=plt.subplot(3,3,index+1))\n",
    "    if(row=='Regionname'):\n",
    "        plt.xticks(rotation=90)"
   ]
  },
  {
   "cell_type": "code",
   "execution_count": 34,
   "metadata": {
    "scrolled": false
   },
   "outputs": [
    {
     "data": {
      "image/png": "[encoded data removed]",
      "text/plain": [
       "<Figure size 1152x1008 with 8 Axes>"
      ]
     },
     "metadata": {
      "needs_background": "light"
     },
     "output_type": "display_data"
    }
   ],
   "source": [
    "plt.figure(figsize=(16,14))\n",
    "for index, row in zip(range(9),['Rooms','Type','Method','Bedroom2','Landsize','Bathroom','Car','Regionname']):\n",
    "    sns.histplot(x=row,data=data,ax=plt.subplot(3,3,index+1))\n",
    "    if(row=='Regionname'):\n",
    "        plt.xticks(rotation=90)"
   ]
  },
  {
   "cell_type": "markdown",
   "metadata": {},
   "source": [
    "We can see that column Landsize is highly skewed. First let us see the skewness"
   ]
  },
  {
   "cell_type": "code",
   "execution_count": 35,
   "metadata": {
    "scrolled": true
   },
   "outputs": [
    {
     "data": {
      "text/plain": [
       "7.6292435968760985"
      ]
     },
     "execution_count": 35,
     "metadata": {},
     "output_type": "execute_result"
    }
   ],
   "source": [
    "data['Landsize'].skew()"
   ]
  },
  {
   "cell_type": "markdown",
   "metadata": {},
   "source": [
    "To remove the skewness, we will use the log values of the data"
   ]
  },
  {
   "cell_type": "code",
   "execution_count": 36,
   "metadata": {},
   "outputs": [],
   "source": [
    "data['Landsize']=np.log(data['Landsize'])"
   ]
  },
  {
   "cell_type": "code",
   "execution_count": 37,
   "metadata": {
    "scrolled": true
   },
   "outputs": [
    {
     "data": {
      "text/plain": [
       "<AxesSubplot:xlabel='Landsize', ylabel='Count'>"
      ]
     },
     "execution_count": 37,
     "metadata": {},
     "output_type": "execute_result"
    },
    {
     "data": {
      "image/png": "[encoded data removed]",
      "text/plain": [
       "<Figure size 432x288 with 1 Axes>"
      ]
     },
     "metadata": {
      "needs_background": "light"
     },
     "output_type": "display_data"
    }
   ],
   "source": [
    "sns.histplot(x=(data['Landsize']))"
   ]
  },
  {
   "cell_type": "code",
   "execution_count": 38,
   "metadata": {},
   "outputs": [
    {
     "data": {
      "text/plain": [
       "-0.594090337164312"
      ]
     },
     "execution_count": 38,
     "metadata": {},
     "output_type": "execute_result"
    }
   ],
   "source": [
    "data['Landsize'].skew()"
   ]
  },
  {
   "cell_type": "markdown",
   "metadata": {},
   "source": [
    "We have decreased the Skewness from 7.6 to -0.6."
   ]
  },
  {
   "cell_type": "code",
   "execution_count": 39,
   "metadata": {},
   "outputs": [
    {
     "data": {
      "text/plain": [
       "(13279, 17)"
      ]
     },
     "execution_count": 39,
     "metadata": {},
     "output_type": "execute_result"
    }
   ],
   "source": [
    "data.shape"
   ]
  },
  {
   "cell_type": "markdown",
   "metadata": {},
   "source": [
    "### Preparing the data"
   ]
  },
  {
   "cell_type": "code",
   "execution_count": 40,
   "metadata": {},
   "outputs": [
    {
     "data": {
      "text/plain": [
       "Index(['Suburb', 'Rooms', 'Type', 'Price', 'Method', 'SellerG', 'Date',\n",
       "       'Distance', 'Postcode', 'Bedroom2', 'Bathroom', 'Car', 'Landsize',\n",
       "       'CouncilArea', 'Lattitude', 'Longtitude', 'Regionname'],\n",
       "      dtype='object')"
      ]
     },
     "execution_count": 40,
     "metadata": {},
     "output_type": "execute_result"
    }
   ],
   "source": [
    "data.columns"
   ]
  },
  {
   "cell_type": "code",
   "execution_count": 41,
   "metadata": {},
   "outputs": [],
   "source": [
    "features = data[['Suburb','Rooms','Type','SellerG','Distance','Postcode','Bedroom2','Bathroom','Car',\n",
    "                 'Landsize','CouncilArea','Lattitude','Longtitude','Regionname']]"
   ]
  },
  {
   "cell_type": "markdown",
   "metadata": {},
   "source": [
    "#### As we are using Regression Model, we cannot use catregorical values as it is. We need to either use One hot encoding or we can use Label Encoding. As we have large number of independent variables and each have many unique variable, using one hot encoding could not be possible. Therefore we will use Label Encoding. Label Encoding can make the data bias but it is the only optimal solution to use with Regression Model"
   ]
  },
  {
   "cell_type": "code",
   "execution_count": 42,
   "metadata": {},
   "outputs": [],
   "source": [
    "from sklearn import preprocessing\n",
    "suburb_encoder = preprocessing.LabelEncoder()\n",
    "type_encoder = preprocessing.LabelEncoder()\n",
    "# method_encoder = preprocessing.LabelEncoder()\n",
    "sellerg_encoder = preprocessing.LabelEncoder()\n",
    "council_encoder = preprocessing.LabelEncoder()\n",
    "regionname_encoder = preprocessing.LabelEncoder()\n"
   ]
  },
  {
   "cell_type": "code",
   "execution_count": 44,
   "metadata": {},
   "outputs": [],
   "source": [
    "features['suburb_encoded'] = suburb_encoder.fit_transform(features['Suburb'])\n",
    "features['type_encoded'] = type_encoder.fit_transform(features['Type'])\n",
    "# features['method_encoded'] = method_encoder.fit_transform(features['Method'])\n",
    "features['sellerg_encoded'] = sellerg_encoder.fit_transform(features['SellerG'])\n",
    "features['council_encoded'] = council_encoder.fit_transform(features['CouncilArea'])\n",
    "features['regionname_encoded'] = regionname_encoder.fit_transform(features['Regionname'])"
   ]
  },
  {
   "cell_type": "markdown",
   "metadata": {},
   "source": [
    "We don't need the encoded columns anymore so we will drop these variables"
   ]
  },
  {
   "cell_type": "code",
   "execution_count": 45,
   "metadata": {},
   "outputs": [],
   "source": [
    "features.drop(columns=['Suburb','Type','SellerG','CouncilArea','Regionname'],axis=1, inplace=True)"
   ]
  },
  {
   "cell_type": "code",
   "execution_count": 46,
   "metadata": {},
   "outputs": [
    {
     "name": "stdout",
     "output_type": "stream",
     "text": [
      "<class 'pandas.core.frame.DataFrame'>\n",
      "Int64Index: 13279 entries, 0 to 13579\n",
      "Data columns (total 14 columns):\n",
      " #   Column              Non-Null Count  Dtype  \n",
      "---  ------              --------------  -----  \n",
      " 0   Rooms               13279 non-null  int64  \n",
      " 1   Distance            13279 non-null  float64\n",
      " 2   Postcode            13279 non-null  float64\n",
      " 3   Bedroom2            13279 non-null  float64\n",
      " 4   Bathroom            13279 non-null  float64\n",
      " 5   Car                 13279 non-null  float64\n",
      " 6   Landsize            13279 non-null  float64\n",
      " 7   Lattitude           13279 non-null  float64\n",
      " 8   Longtitude          13279 non-null  float64\n",
      " 9   suburb_encoded      13279 non-null  int32  \n",
      " 10  type_encoded        13279 non-null  int32  \n",
      " 11  sellerg_encoded     13279 non-null  int32  \n",
      " 12  council_encoded     13279 non-null  int32  \n",
      " 13  regionname_encoded  13279 non-null  int32  \n",
      "dtypes: float64(8), int32(5), int64(1)\n",
      "memory usage: 1.3 MB\n"
     ]
    }
   ],
   "source": [
    "features.info()"
   ]
  },
  {
   "cell_type": "code",
   "execution_count": 47,
   "metadata": {},
   "outputs": [
    {
     "data": {
      "text/plain": [
       "(13279, 14)"
      ]
     },
     "execution_count": 47,
     "metadata": {},
     "output_type": "execute_result"
    }
   ],
   "source": [
    "X = features\n",
    "X.shape"
   ]
  },
  {
   "cell_type": "code",
   "execution_count": 48,
   "metadata": {},
   "outputs": [
    {
     "data": {
      "text/plain": [
       "(13279,)"
      ]
     },
     "execution_count": 48,
     "metadata": {},
     "output_type": "execute_result"
    }
   ],
   "source": [
    "y = data['Price']\n",
    "len(y)\n",
    "y.shape"
   ]
  },
  {
   "cell_type": "markdown",
   "metadata": {},
   "source": [
    "As we are using Linear Model, we need need to use normalization else our model will not work properly."
   ]
  },
  {
   "cell_type": "code",
   "execution_count": 49,
   "metadata": {},
   "outputs": [],
   "source": [
    "X = preprocessing.StandardScaler().fit(X).transform(X)"
   ]
  },
  {
   "cell_type": "code",
   "execution_count": 50,
   "metadata": {},
   "outputs": [],
   "source": [
    "from sklearn.model_selection import train_test_split\n",
    "x_train, x_test, y_train, y_test = train_test_split(X, y, test_size=0.3, random_state=4)"
   ]
  },
  {
   "cell_type": "markdown",
   "metadata": {},
   "source": [
    "### Modeling data"
   ]
  },
  {
   "cell_type": "markdown",
   "metadata": {},
   "source": [
    "First let us use Multiple Regression"
   ]
  },
  {
   "cell_type": "markdown",
   "metadata": {},
   "source": [
    "#### Multiple Regression"
   ]
  },
  {
   "cell_type": "code",
   "execution_count": 51,
   "metadata": {},
   "outputs": [
    {
     "data": {
      "text/plain": [
       "LinearRegression()"
      ]
     },
     "execution_count": 51,
     "metadata": {},
     "output_type": "execute_result"
    }
   ],
   "source": [
    "from sklearn import linear_model\n",
    "multiple_reg = linear_model.LinearRegression()\n",
    "multiple_reg.fit(x_train,y_train)"
   ]
  },
  {
   "cell_type": "code",
   "execution_count": 52,
   "metadata": {},
   "outputs": [
    {
     "name": "stdout",
     "output_type": "stream",
     "text": [
      "Score of Multiple Regression : 0.6176488354788054\n"
     ]
    }
   ],
   "source": [
    "print(\"Score of Multiple Regression :\",multiple_reg.score(x_test,y_test))"
   ]
  },
  {
   "cell_type": "markdown",
   "metadata": {},
   "source": [
    "We can see that the score of Multiple Regression is not great. So let us use Polynomial Regression and fist find the optimal degree. \n",
    "\n",
    "**Note-** We cannot use high number of degree as we have large number of independent variables and it will not be optimal to calculate the values"
   ]
  },
  {
   "cell_type": "markdown",
   "metadata": {},
   "source": [
    "#### Polynomial Regression"
   ]
  },
  {
   "cell_type": "code",
   "execution_count": 53,
   "metadata": {},
   "outputs": [],
   "source": [
    "from sklearn.preprocessing import PolynomialFeatures\n",
    "r_squares = []\n",
    "lr = linear_model.LinearRegression()\n",
    "for n in range(1,5):\n",
    "    pr = PolynomialFeatures(degree=n)\n",
    "    x_train_pr = pr.fit_transform(x_train)\n",
    "    x_test_pr = pr.fit_transform(x_test)\n",
    "    lr.fit(x_train_pr,y_train)\n",
    "    r_squares.append(lr.score(x_test_pr,y_test))\n"
   ]
  },
  {
   "cell_type": "code",
   "execution_count": 54,
   "metadata": {
    "scrolled": false
   },
   "outputs": [
    {
     "data": {
      "image/png": "[encoded data removed]",
      "text/plain": [
       "<Figure size 432x288 with 1 Axes>"
      ]
     },
     "metadata": {
      "needs_background": "light"
     },
     "output_type": "display_data"
    }
   ],
   "source": [
    "plt.plot(range(1,5),r_squares)\n",
    "plt.title(\"R squared score\")\n",
    "plt.xlabel(\"n\")\n",
    "plt.ylabel(\"R squared value\")\n",
    "plt.ylim(0,1)\n",
    "plt.show()"
   ]
  },
  {
   "cell_type": "markdown",
   "metadata": {},
   "source": [
    "We can see that our R^2 value increases till n = 3 and then decreases dramatically. For our model, Polynomial Regression Model with degree 3 gives best score"
   ]
  },
  {
   "cell_type": "code",
   "execution_count": 55,
   "metadata": {},
   "outputs": [
    {
     "data": {
      "text/plain": [
       "0.7660597215542349"
      ]
     },
     "execution_count": 55,
     "metadata": {},
     "output_type": "execute_result"
    }
   ],
   "source": [
    "max(r_squares)"
   ]
  },
  {
   "cell_type": "code",
   "execution_count": 56,
   "metadata": {},
   "outputs": [
    {
     "data": {
      "text/plain": [
       "LinearRegression()"
      ]
     },
     "execution_count": 56,
     "metadata": {},
     "output_type": "execute_result"
    }
   ],
   "source": [
    "pr = PolynomialFeatures(degree=3)\n",
    "x_train_pr = pr.fit_transform(x_train)\n",
    "x_test_pr = pr.fit_transform(x_test)\n",
    "lr.fit(x_train_pr,y_train)"
   ]
  },
  {
   "cell_type": "markdown",
   "metadata": {},
   "source": [
    "As our Polynomial Regression Model gave an accuracy of 0.766, it performed better than Multiple Regression model."
   ]
  },
  {
   "cell_type": "markdown",
   "metadata": {},
   "source": [
    "Till now we have have got our best model with r squared score of 0.766. Now one thing to note is our data has many number of features, and many features are correlated to each other. For example, Rooms and bedrooms could be correlated as the number of bedrooms increase, naturally the number of rooms will increase. Similary there could be many such correlated features. This could cause Overfitting of our model which could give innacurate predictions. To overcome this, we could use Ridge Regression or Lasso Regression. They can not only remove the factor of overfitting but also improve our model accuracy to some extent."
   ]
  },
  {
   "cell_type": "markdown",
   "metadata": {},
   "source": [
    "#### Ridge Regression"
   ]
  },
  {
   "cell_type": "markdown",
   "metadata": {},
   "source": [
    "To use Ridge Regression, we need to specify the value of aplha. We will use GridSearchCV to not only generalize our accuracy with cross validation but also find the best estimator of alpha."
   ]
  },
  {
   "cell_type": "code",
   "execution_count": 57,
   "metadata": {},
   "outputs": [
    {
     "data": {
      "text/plain": [
       "GridSearchCV(cv=4, estimator=Ridge(),\n",
       "             param_grid=[{'alpha': [0.1, 1, 10, 100, 1000, 10000, 100000,\n",
       "                                    1000000]}])"
      ]
     },
     "execution_count": 57,
     "metadata": {},
     "output_type": "execute_result"
    }
   ],
   "source": [
    "from sklearn.linear_model import Ridge\n",
    "from sklearn.model_selection import GridSearchCV\n",
    "RidgeModel = Ridge()\n",
    "par = [{'alpha':[0.1,1,10,100,1000,10000,100000,1000000]}]\n",
    "Grid1 = GridSearchCV(RidgeModel, par, cv =4)\n",
    "Grid1.fit(x_train_pr,y_train)"
   ]
  },
  {
   "cell_type": "code",
   "execution_count": 58,
   "metadata": {
    "scrolled": false
   },
   "outputs": [
    {
     "name": "stdout",
     "output_type": "stream",
     "text": [
      "Ridge(alpha=100)\n",
      "0.8075994672964744\n"
     ]
    },
    {
     "data": {
      "text/plain": [
       "0.7700328619492762"
      ]
     },
     "execution_count": 58,
     "metadata": {},
     "output_type": "execute_result"
    }
   ],
   "source": [
    "RR = Grid1.best_estimator_\n",
    "print(RR)\n",
    "print(RR.score(x_train_pr,y_train))\n",
    "RR.score(x_test_pr,y_test)"
   ]
  },
  {
   "cell_type": "markdown",
   "metadata": {},
   "source": [
    "From Ridge Regression, we are improving our model accuracy from 0.766 to 0.770. For our training data we get an accuracy of 0.807 but for for test data we get only 0.770\n",
    "\n",
    "Although this is not too much of improvement, but we are removing the possible chance of overfitting of data. \n"
   ]
  },
  {
   "cell_type": "markdown",
   "metadata": {},
   "source": [
    "#### Lasso Regression"
   ]
  },
  {
   "cell_type": "code",
   "execution_count": 59,
   "metadata": {},
   "outputs": [
    {
     "name": "stdout",
     "output_type": "stream",
     "text": [
      "The number of columns in our train data:  680\n"
     ]
    }
   ],
   "source": [
    "print(\"The number of columns in our train data: \",x_train_pr.shape[1])"
   ]
  },
  {
   "cell_type": "markdown",
   "metadata": {},
   "source": [
    "From previous Ridge Regression we have removed the possible chance of overfitting of data. But, as we have used a polynomial Transfrom of degree 5, our data with 680 different coeficients. As the number is very large, we need to have a feature selection method. Lasso Regression does it successfully."
   ]
  },
  {
   "cell_type": "markdown",
   "metadata": {},
   "source": [
    "Here also we will use GridSearchCV to find best possible value of alpha and use cross validation.\n",
    "\n",
    "Running Lasso Model takes several minutes"
   ]
  },
  {
   "cell_type": "code",
   "execution_count": 63,
   "metadata": {
    "scrolled": true
   },
   "outputs": [
    {
     "name": "stderr",
     "output_type": "stream",
     "text": [
      "C:\\Users\\MAYANK RAJ\\anaconda3\\lib\\site-packages\\sklearn\\linear_model\\_coordinate_descent.py:529: ConvergenceWarning: Objective did not converge. You might want to increase the number of iterations. Duality gap: 223887349948936.94, tolerance: 240583583668.9818\n",
      "  model = cd_fast.enet_coordinate_descent(\n",
      "C:\\Users\\MAYANK RAJ\\anaconda3\\lib\\site-packages\\sklearn\\linear_model\\_coordinate_descent.py:529: ConvergenceWarning: Objective did not converge. You might want to increase the number of iterations. Duality gap: 223597340978857.88, tolerance: 242573711673.2748\n",
      "  model = cd_fast.enet_coordinate_descent(\n",
      "C:\\Users\\MAYANK RAJ\\anaconda3\\lib\\site-packages\\sklearn\\linear_model\\_coordinate_descent.py:529: ConvergenceWarning: Objective did not converge. You might want to increase the number of iterations. Duality gap: 226336533540274.34, tolerance: 245625834472.52432\n",
      "  model = cd_fast.enet_coordinate_descent(\n",
      "C:\\Users\\MAYANK RAJ\\anaconda3\\lib\\site-packages\\sklearn\\linear_model\\_coordinate_descent.py:529: ConvergenceWarning: Objective did not converge. You might want to increase the number of iterations. Duality gap: 209973658242654.75, tolerance: 239317262188.79602\n",
      "  model = cd_fast.enet_coordinate_descent(\n",
      "C:\\Users\\MAYANK RAJ\\anaconda3\\lib\\site-packages\\sklearn\\linear_model\\_coordinate_descent.py:529: ConvergenceWarning: Objective did not converge. You might want to increase the number of iterations. Duality gap: 223950463169685.28, tolerance: 240583583668.9818\n",
      "  model = cd_fast.enet_coordinate_descent(\n",
      "C:\\Users\\MAYANK RAJ\\anaconda3\\lib\\site-packages\\sklearn\\linear_model\\_coordinate_descent.py:529: ConvergenceWarning: Objective did not converge. You might want to increase the number of iterations. Duality gap: 223620459966551.3, tolerance: 242573711673.2748\n",
      "  model = cd_fast.enet_coordinate_descent(\n",
      "C:\\Users\\MAYANK RAJ\\anaconda3\\lib\\site-packages\\sklearn\\linear_model\\_coordinate_descent.py:529: ConvergenceWarning: Objective did not converge. You might want to increase the number of iterations. Duality gap: 226359733713888.25, tolerance: 245625834472.52432\n",
      "  model = cd_fast.enet_coordinate_descent(\n",
      "C:\\Users\\MAYANK RAJ\\anaconda3\\lib\\site-packages\\sklearn\\linear_model\\_coordinate_descent.py:529: ConvergenceWarning: Objective did not converge. You might want to increase the number of iterations. Duality gap: 210018876815600.0, tolerance: 239317262188.79602\n",
      "  model = cd_fast.enet_coordinate_descent(\n",
      "C:\\Users\\MAYANK RAJ\\anaconda3\\lib\\site-packages\\sklearn\\linear_model\\_coordinate_descent.py:529: ConvergenceWarning: Objective did not converge. You might want to increase the number of iterations. Duality gap: 224541038599188.66, tolerance: 240583583668.9818\n",
      "  model = cd_fast.enet_coordinate_descent(\n",
      "C:\\Users\\MAYANK RAJ\\anaconda3\\lib\\site-packages\\sklearn\\linear_model\\_coordinate_descent.py:529: ConvergenceWarning: Objective did not converge. You might want to increase the number of iterations. Duality gap: 223819984210900.4, tolerance: 242573711673.2748\n",
      "  model = cd_fast.enet_coordinate_descent(\n",
      "C:\\Users\\MAYANK RAJ\\anaconda3\\lib\\site-packages\\sklearn\\linear_model\\_coordinate_descent.py:529: ConvergenceWarning: Objective did not converge. You might want to increase the number of iterations. Duality gap: 226548678302191.03, tolerance: 245625834472.52432\n",
      "  model = cd_fast.enet_coordinate_descent(\n",
      "C:\\Users\\MAYANK RAJ\\anaconda3\\lib\\site-packages\\sklearn\\linear_model\\_coordinate_descent.py:529: ConvergenceWarning: Objective did not converge. You might want to increase the number of iterations. Duality gap: 210408718629454.62, tolerance: 239317262188.79602\n",
      "  model = cd_fast.enet_coordinate_descent(\n",
      "C:\\Users\\MAYANK RAJ\\anaconda3\\lib\\site-packages\\sklearn\\linear_model\\_coordinate_descent.py:529: ConvergenceWarning: Objective did not converge. You might want to increase the number of iterations. Duality gap: 227118537722120.9, tolerance: 240583583668.9818\n",
      "  model = cd_fast.enet_coordinate_descent(\n",
      "C:\\Users\\MAYANK RAJ\\anaconda3\\lib\\site-packages\\sklearn\\linear_model\\_coordinate_descent.py:529: ConvergenceWarning: Objective did not converge. You might want to increase the number of iterations. Duality gap: 222048390726311.7, tolerance: 242573711673.2748\n",
      "  model = cd_fast.enet_coordinate_descent(\n",
      "C:\\Users\\MAYANK RAJ\\anaconda3\\lib\\site-packages\\sklearn\\linear_model\\_coordinate_descent.py:529: ConvergenceWarning: Objective did not converge. You might want to increase the number of iterations. Duality gap: 224416480808706.94, tolerance: 245625834472.52432\n",
      "  model = cd_fast.enet_coordinate_descent(\n",
      "C:\\Users\\MAYANK RAJ\\anaconda3\\lib\\site-packages\\sklearn\\linear_model\\_coordinate_descent.py:529: ConvergenceWarning: Objective did not converge. You might want to increase the number of iterations. Duality gap: 211861845409605.72, tolerance: 239317262188.79602\n",
      "  model = cd_fast.enet_coordinate_descent(\n",
      "C:\\Users\\MAYANK RAJ\\anaconda3\\lib\\site-packages\\sklearn\\linear_model\\_coordinate_descent.py:529: ConvergenceWarning: Objective did not converge. You might want to increase the number of iterations. Duality gap: 199789985477387.5, tolerance: 240583583668.9818\n",
      "  model = cd_fast.enet_coordinate_descent(\n",
      "C:\\Users\\MAYANK RAJ\\anaconda3\\lib\\site-packages\\sklearn\\linear_model\\_coordinate_descent.py:529: ConvergenceWarning: Objective did not converge. You might want to increase the number of iterations. Duality gap: 188099790896288.25, tolerance: 242573711673.2748\n",
      "  model = cd_fast.enet_coordinate_descent(\n",
      "C:\\Users\\MAYANK RAJ\\anaconda3\\lib\\site-packages\\sklearn\\linear_model\\_coordinate_descent.py:529: ConvergenceWarning: Objective did not converge. You might want to increase the number of iterations. Duality gap: 201643902189591.7, tolerance: 245625834472.52432\n",
      "  model = cd_fast.enet_coordinate_descent(\n",
      "C:\\Users\\MAYANK RAJ\\anaconda3\\lib\\site-packages\\sklearn\\linear_model\\_coordinate_descent.py:529: ConvergenceWarning: Objective did not converge. You might want to increase the number of iterations. Duality gap: 189245253150124.6, tolerance: 239317262188.79602\n",
      "  model = cd_fast.enet_coordinate_descent(\n",
      "C:\\Users\\MAYANK RAJ\\anaconda3\\lib\\site-packages\\sklearn\\linear_model\\_coordinate_descent.py:529: ConvergenceWarning: Objective did not converge. You might want to increase the number of iterations. Duality gap: 404981436536.75, tolerance: 245625834472.52432\n",
      "  model = cd_fast.enet_coordinate_descent(\n",
      "C:\\Users\\MAYANK RAJ\\anaconda3\\lib\\site-packages\\sklearn\\linear_model\\_coordinate_descent.py:529: ConvergenceWarning: Objective did not converge. You might want to increase the number of iterations. Duality gap: 248183260965572.12, tolerance: 322707005935.813\n",
      "  model = cd_fast.enet_coordinate_descent(\n"
     ]
    },
    {
     "data": {
      "text/plain": [
       "GridSearchCV(cv=4, estimator=Lasso(),\n",
       "             param_grid=[{'alpha': [0.1, 1, 10, 100, 1000, 10000, 100000,\n",
       "                                    1000000]}])"
      ]
     },
     "execution_count": 63,
     "metadata": {},
     "output_type": "execute_result"
    }
   ],
   "source": [
    "from sklearn.linear_model import Lasso\n",
    "LassoModel = Lasso()\n",
    "Grid2 = GridSearchCV(LassoModel,par,cv=4)\n",
    "Grid2.fit(x_train_pr,y_train)"
   ]
  },
  {
   "cell_type": "code",
   "execution_count": 64,
   "metadata": {},
   "outputs": [
    {
     "name": "stdout",
     "output_type": "stream",
     "text": [
      "Lasso(alpha=1000)\n",
      "0.7994083847932286\n"
     ]
    },
    {
     "data": {
      "text/plain": [
       "0.7732457010561116"
      ]
     },
     "execution_count": 64,
     "metadata": {},
     "output_type": "execute_result"
    }
   ],
   "source": [
    "LR = Grid2.best_estimator_\n",
    "print(LR)\n",
    "print(LR.score(x_train_pr,y_train))\n",
    "LR.score(x_test_pr,y_test)"
   ]
  },
  {
   "cell_type": "code",
   "execution_count": 65,
   "metadata": {},
   "outputs": [
    {
     "name": "stdout",
     "output_type": "stream",
     "text": [
      "Number of features used : 400\n"
     ]
    }
   ],
   "source": [
    "coeff_used = np.sum(LR.coef_!=0)\n",
    "print(\"Number of features used :\",coeff_used)"
   ]
  },
  {
   "cell_type": "markdown",
   "metadata": {},
   "source": [
    "From Lasso Regression Model we find an accuracy of 0.773 for test data and 0.799 for our train data. \n",
    "\n",
    "Although we have just improved our accuracy from 0.770 in Ridge Regression to 0.773 in Lasso Regression, we have achieved feature selection to better fit our data. We have just used 400 coeficients of our 680 coeficients. This can be a better model for our data. "
   ]
  },
  {
   "cell_type": "markdown",
   "metadata": {},
   "source": [
    "### Model Evaluation"
   ]
  },
  {
   "cell_type": "markdown",
   "metadata": {},
   "source": [
    "We will use R squared value and mean squared error to check if our model is good fit."
   ]
  },
  {
   "cell_type": "code",
   "execution_count": 66,
   "metadata": {
    "scrolled": false
   },
   "outputs": [
    {
     "name": "stdout",
     "output_type": "stream",
     "text": [
      "The R squared value for our multiple regression model is  0.6176488354788054\n",
      "The Mean squared error for our multiple regression model is  140597700231.08633\n",
      "\n",
      "\n",
      "The R squared value for our Polynomial regression model with degree 3 is  0.7660597215542349\n",
      "The Mean squared error for our Polynomial regression model with degree 3 is  86024231630.32188\n",
      "\n",
      "\n",
      "The R squared value for our Ridge regression model with polynomial features degree 3 on is  0.7700328619492762\n",
      "The Mean squared error for our Ridge regression model with Polynomial regression model with degree 3 is  84563233328.04767\n",
      "\n",
      "\n",
      "The R squared value for our Lasso regression model with polynomial features degree 3 is  0.7732457010561116\n",
      "The Mean squared error for our Lasso regression model with Polynomial regression model with degree 3 is  83381812080.909\n"
     ]
    }
   ],
   "source": [
    "from sklearn.metrics import mean_squared_error as mse\n",
    "print(\"The R squared value for our multiple regression model is \",multiple_reg.score(x_test,y_test))\n",
    "print(\"The Mean squared error for our multiple regression model is \",mse(y_test, multiple_reg.predict(x_test)))\n",
    "print('\\n')\n",
    "print(\"The R squared value for our Polynomial regression model with degree 3 is \", lr.score(x_test_pr,y_test))\n",
    "print(\"The Mean squared error for our Polynomial regression model with degree 3 is \",mse(y_test, lr.predict(x_test_pr)))\n",
    "print('\\n')\n",
    "print(\"The R squared value for our Ridge regression model with polynomial features degree 3 on is \", RR.score(x_test_pr,y_test))\n",
    "print(\"The Mean squared error for our Ridge regression model with Polynomial regression model with degree 3 is \",\\\n",
    "      mse(y_test, RR.predict(x_test_pr)))\n",
    "print('\\n')\n",
    "print(\"The R squared value for our Lasso regression model with polynomial features degree 3 is \", LR.score(x_test_pr,y_test))\n",
    "print(\"The Mean squared error for our Lasso regression model with Polynomial regression model with degree 3 is \",\\\n",
    "      mse(y_test, LR.predict(x_test_pr)))"
   ]
  },
  {
   "cell_type": "markdown",
   "metadata": {},
   "source": [
    "Although we can clearly say that our Lasso Regression model is better than all three models, the value of Mean Squared error is very high which could be decreased further with different models."
   ]
  },
  {
   "cell_type": "markdown",
   "metadata": {},
   "source": [
    "We could plot a scatter plot between the original and predicted value of our test data set to understand where our model fails"
   ]
  },
  {
   "cell_type": "code",
   "execution_count": 67,
   "metadata": {},
   "outputs": [],
   "source": [
    "yhat = pd.DataFrame(LR.predict(x_test_pr),columns=['Price'])"
   ]
  },
  {
   "cell_type": "code",
   "execution_count": 68,
   "metadata": {
    "scrolled": false
   },
   "outputs": [
    {
     "data": {
      "image/png": "[encoded data removed]",
      "text/plain": [
       "<Figure size 1008x720 with 1 Axes>"
      ]
     },
     "metadata": {
      "needs_background": "light"
     },
     "output_type": "display_data"
    }
   ],
   "source": [
    "plt.figure(figsize=(14,10))\n",
    "sns.scatterplot(x=range(len(y_test)),y='Price',data=pd.DataFrame(y_test),s=150)\n",
    "sns.scatterplot(x=range(len(y_test)),y='Price',data=yhat,alpha=1,s=150)\n",
    "plt.title(\"Predicted value vs Test value\")\n",
    "plt.xlabel('Index')\n",
    "plt.show()"
   ]
  },
  {
   "cell_type": "markdown",
   "metadata": {},
   "source": [
    "From the graph above, we can see that the area where blue markers are visible are the prices for which our model did not perform well. Further we can see that our model predicts negative value of price, which is also wrong. \n",
    "\n",
    "#### Our model can be termed more accurate if it predicts the positive price below 2000000.\n",
    "\n",
    "To prove that our model does not have high error for accurate values, we will plot a histogram for absolute error values for predicted and real test values"
   ]
  },
  {
   "cell_type": "code",
   "execution_count": 69,
   "metadata": {},
   "outputs": [
    {
     "data": {
      "text/plain": [
       "<AxesSubplot:xlabel='Price', ylabel='Count'>"
      ]
     },
     "execution_count": 69,
     "metadata": {},
     "output_type": "execute_result"
    },
    {
     "data": {
      "image/png": "[encoded data removed]",
      "text/plain": [
       "<Figure size 1008x720 with 1 Axes>"
      ]
     },
     "metadata": {
      "needs_background": "light"
     },
     "output_type": "display_data"
    }
   ],
   "source": [
    "plt.figure(figsize=(14,10))\n",
    "defects = abs(y_test - yhat.values.reshape(-1))\n",
    "sns.histplot(x=defects)"
   ]
  },
  {
   "cell_type": "markdown",
   "metadata": {},
   "source": [
    "From the histogram we can prove that our model works good for low value of price as the absolute error is less for large number of samples.\n",
    "\n",
    "\n",
    "**Note-** We can't improve our model further with these features as we don't have enough number of sample data for high house prices. We can get more accurate results if we drop few features or if we use different models."
   ]
  },
  {
   "cell_type": "markdown",
   "metadata": {},
   "source": [
    "### Prediction with our model"
   ]
  },
  {
   "cell_type": "markdown",
   "metadata": {},
   "source": [
    "Let us predict price of house in Melbourne using our model. For let us try some random numbers"
   ]
  },
  {
   "cell_type": "markdown",
   "metadata": {},
   "source": [
    "Let us generate 10 random data in the range of the data we already have"
   ]
  },
  {
   "cell_type": "code",
   "execution_count": 70,
   "metadata": {},
   "outputs": [],
   "source": [
    "size = 10\n",
    "trial_suburb = list(suburb_encoder.inverse_transform(list(np.random.randint(0,312,size))))\n",
    "trial_type = list(type_encoder.inverse_transform(list(np.random.randint(0,3,size))))\n",
    "trial_sellerg = list(sellerg_encoder.inverse_transform(list(np.random.randint(0,265,size))))\n",
    "trial_council = list(council_encoder.inverse_transform(list(np.random.randint(0,33,size))))\n",
    "trial_regionname = list(regionname_encoder.inverse_transform(list(np.random.randint(0,8,size))))\n",
    "\n",
    "\n",
    "trial_rooms = list(np.random.randint(1,10,size))\n",
    "trial_distance = list(np.random.uniform(0,25.157685,size))\n",
    "trial_postcode = list(np.random.randint(3000,3078,size))\n",
    "trial_bedroom2 = list(np.random.randint(0,10,size))\n",
    "trial_bathroom = list(np.random.randint(0,10,size))\n",
    "trial_car = list(np.random.randint(0,10,size))\n",
    "trial_landsize = list(np.random.uniform(0,10.106271,size))\n",
    "trial_lattitude = list(np.random.uniform(-38.182550,-36.408530,size))\n",
    "trial_longtitude = list(np.random.uniform(144.431810, 145.526350, size))\n",
    "trial_suburb_encoded = suburb_encoder.transform(trial_suburb)\n",
    "trial_type_encoded = type_encoder.transform(trial_type)\n",
    "trial_sellerg_encoded = sellerg_encoder.transform(trial_sellerg)\n",
    "trial_council_encoded = council_encoder.transform(trial_council)\n",
    "trial_regionname_encoded = regionname_encoder.transform(trial_regionname)\n",
    "\n",
    "trial_data = pd.DataFrame(list(zip(trial_rooms,trial_distance,trial_postcode,trial_bedroom2,\\\n",
    "                                   trial_bathroom,trial_car,trial_landsize,trial_lattitude, \\\n",
    "                                   trial_longtitude,trial_suburb_encoded,trial_type_encoded,\\\n",
    "                                  trial_sellerg_encoded,trial_council_encoded, trial_regionname_encoded\\\n",
    "                                  ,trial_suburb,trial_type,trial_sellerg,trial_council,trial_regionname)),\\\n",
    "                         columns=['Rooms','Distance','Postcode','Bedroom2','Bathroom','Car','Landsize',\\\n",
    "                                 'Lattitude','Longtitude','Suburb_encoded','Type_encoded','SellerG_encoded',\\\n",
    "                                  'Council_encoded','Regionname_encoded','Suburb','Type','SellerG','Council','Regionname'])"
   ]
  },
  {
   "cell_type": "markdown",
   "metadata": {},
   "source": [
    "First let us view our trial data"
   ]
  },
  {
   "cell_type": "code",
   "execution_count": 71,
   "metadata": {
    "scrolled": false
   },
   "outputs": [
    {
     "data": {
      "text/html": [
       "<div>\n",
       "<style scoped>\n",
       "    .dataframe tbody tr th:only-of-type {\n",
       "        vertical-align: middle;\n",
       "    }\n",
       "\n",
       "    .dataframe tbody tr th {\n",
       "        vertical-align: top;\n",
       "    }\n",
       "\n",
       "    .dataframe thead th {\n",
       "        text-align: right;\n",
       "    }\n",
       "</style>\n",
       "<table border=\"1\" class=\"dataframe\">\n",
       "  <thead>\n",
       "    <tr style=\"text-align: right;\">\n",
       "      <th></th>\n",
       "      <th>Rooms</th>\n",
       "      <th>Distance</th>\n",
       "      <th>Postcode</th>\n",
       "      <th>Bedroom2</th>\n",
       "      <th>Bathroom</th>\n",
       "      <th>Car</th>\n",
       "      <th>Landsize</th>\n",
       "      <th>Lattitude</th>\n",
       "      <th>Longtitude</th>\n",
       "      <th>Suburb_encoded</th>\n",
       "      <th>Type_encoded</th>\n",
       "      <th>SellerG_encoded</th>\n",
       "      <th>Council_encoded</th>\n",
       "      <th>Regionname_encoded</th>\n",
       "      <th>Suburb</th>\n",
       "      <th>Type</th>\n",
       "      <th>SellerG</th>\n",
       "      <th>Council</th>\n",
       "      <th>Regionname</th>\n",
       "    </tr>\n",
       "  </thead>\n",
       "  <tbody>\n",
       "    <tr>\n",
       "      <th>0</th>\n",
       "      <td>8</td>\n",
       "      <td>15.079937</td>\n",
       "      <td>3035</td>\n",
       "      <td>2</td>\n",
       "      <td>7</td>\n",
       "      <td>3</td>\n",
       "      <td>5.213194</td>\n",
       "      <td>-37.112406</td>\n",
       "      <td>144.541518</td>\n",
       "      <td>253</td>\n",
       "      <td>1</td>\n",
       "      <td>56</td>\n",
       "      <td>11</td>\n",
       "      <td>3</td>\n",
       "      <td>Skye</td>\n",
       "      <td>t</td>\n",
       "      <td>D'Aprano</td>\n",
       "      <td>Hume</td>\n",
       "      <td>Northern Victoria</td>\n",
       "    </tr>\n",
       "    <tr>\n",
       "      <th>1</th>\n",
       "      <td>9</td>\n",
       "      <td>18.475390</td>\n",
       "      <td>3052</td>\n",
       "      <td>7</td>\n",
       "      <td>7</td>\n",
       "      <td>8</td>\n",
       "      <td>9.458374</td>\n",
       "      <td>-37.543794</td>\n",
       "      <td>144.633338</td>\n",
       "      <td>222</td>\n",
       "      <td>0</td>\n",
       "      <td>43</td>\n",
       "      <td>4</td>\n",
       "      <td>1</td>\n",
       "      <td>Oakleigh South</td>\n",
       "      <td>h</td>\n",
       "      <td>Chambers</td>\n",
       "      <td>Cardinia</td>\n",
       "      <td>Eastern Victoria</td>\n",
       "    </tr>\n",
       "    <tr>\n",
       "      <th>2</th>\n",
       "      <td>9</td>\n",
       "      <td>3.757588</td>\n",
       "      <td>3004</td>\n",
       "      <td>2</td>\n",
       "      <td>0</td>\n",
       "      <td>6</td>\n",
       "      <td>0.666237</td>\n",
       "      <td>-36.981797</td>\n",
       "      <td>144.886006</td>\n",
       "      <td>50</td>\n",
       "      <td>1</td>\n",
       "      <td>179</td>\n",
       "      <td>19</td>\n",
       "      <td>2</td>\n",
       "      <td>Bullengarook</td>\n",
       "      <td>t</td>\n",
       "      <td>Prime</td>\n",
       "      <td>Melton</td>\n",
       "      <td>Northern Metropolitan</td>\n",
       "    </tr>\n",
       "    <tr>\n",
       "      <th>3</th>\n",
       "      <td>7</td>\n",
       "      <td>9.404633</td>\n",
       "      <td>3068</td>\n",
       "      <td>2</td>\n",
       "      <td>0</td>\n",
       "      <td>3</td>\n",
       "      <td>4.044229</td>\n",
       "      <td>-36.645191</td>\n",
       "      <td>144.620805</td>\n",
       "      <td>231</td>\n",
       "      <td>2</td>\n",
       "      <td>81</td>\n",
       "      <td>12</td>\n",
       "      <td>4</td>\n",
       "      <td>Port Melbourne</td>\n",
       "      <td>u</td>\n",
       "      <td>Gary</td>\n",
       "      <td>Kingston</td>\n",
       "      <td>South-Eastern Metropolitan</td>\n",
       "    </tr>\n",
       "    <tr>\n",
       "      <th>4</th>\n",
       "      <td>3</td>\n",
       "      <td>18.026090</td>\n",
       "      <td>3019</td>\n",
       "      <td>1</td>\n",
       "      <td>0</td>\n",
       "      <td>0</td>\n",
       "      <td>8.461468</td>\n",
       "      <td>-37.915971</td>\n",
       "      <td>145.117536</td>\n",
       "      <td>226</td>\n",
       "      <td>0</td>\n",
       "      <td>83</td>\n",
       "      <td>23</td>\n",
       "      <td>6</td>\n",
       "      <td>Parkdale</td>\n",
       "      <td>h</td>\n",
       "      <td>Grantham</td>\n",
       "      <td>Moreland</td>\n",
       "      <td>Western Metropolitan</td>\n",
       "    </tr>\n",
       "    <tr>\n",
       "      <th>5</th>\n",
       "      <td>8</td>\n",
       "      <td>12.854626</td>\n",
       "      <td>3061</td>\n",
       "      <td>0</td>\n",
       "      <td>4</td>\n",
       "      <td>3</td>\n",
       "      <td>6.218286</td>\n",
       "      <td>-36.922849</td>\n",
       "      <td>144.976726</td>\n",
       "      <td>16</td>\n",
       "      <td>1</td>\n",
       "      <td>148</td>\n",
       "      <td>7</td>\n",
       "      <td>2</td>\n",
       "      <td>Aspendale Gardens</td>\n",
       "      <td>t</td>\n",
       "      <td>Moonee</td>\n",
       "      <td>Frankston</td>\n",
       "      <td>Northern Metropolitan</td>\n",
       "    </tr>\n",
       "    <tr>\n",
       "      <th>6</th>\n",
       "      <td>1</td>\n",
       "      <td>9.994791</td>\n",
       "      <td>3012</td>\n",
       "      <td>0</td>\n",
       "      <td>6</td>\n",
       "      <td>9</td>\n",
       "      <td>9.922428</td>\n",
       "      <td>-37.158886</td>\n",
       "      <td>144.692867</td>\n",
       "      <td>175</td>\n",
       "      <td>0</td>\n",
       "      <td>58</td>\n",
       "      <td>25</td>\n",
       "      <td>1</td>\n",
       "      <td>Kingsbury</td>\n",
       "      <td>h</td>\n",
       "      <td>Darras</td>\n",
       "      <td>Port Phillip</td>\n",
       "      <td>Eastern Victoria</td>\n",
       "    </tr>\n",
       "    <tr>\n",
       "      <th>7</th>\n",
       "      <td>5</td>\n",
       "      <td>3.822156</td>\n",
       "      <td>3077</td>\n",
       "      <td>3</td>\n",
       "      <td>8</td>\n",
       "      <td>7</td>\n",
       "      <td>3.141045</td>\n",
       "      <td>-37.292762</td>\n",
       "      <td>145.143471</td>\n",
       "      <td>104</td>\n",
       "      <td>1</td>\n",
       "      <td>165</td>\n",
       "      <td>12</td>\n",
       "      <td>1</td>\n",
       "      <td>Doncaster East</td>\n",
       "      <td>t</td>\n",
       "      <td>Only</td>\n",
       "      <td>Kingston</td>\n",
       "      <td>Eastern Victoria</td>\n",
       "    </tr>\n",
       "    <tr>\n",
       "      <th>8</th>\n",
       "      <td>2</td>\n",
       "      <td>7.927780</td>\n",
       "      <td>3048</td>\n",
       "      <td>1</td>\n",
       "      <td>7</td>\n",
       "      <td>4</td>\n",
       "      <td>6.745522</td>\n",
       "      <td>-37.790099</td>\n",
       "      <td>144.823443</td>\n",
       "      <td>257</td>\n",
       "      <td>1</td>\n",
       "      <td>14</td>\n",
       "      <td>10</td>\n",
       "      <td>7</td>\n",
       "      <td>South Yarra</td>\n",
       "      <td>t</td>\n",
       "      <td>Australian</td>\n",
       "      <td>Hobsons Bay</td>\n",
       "      <td>Western Victoria</td>\n",
       "    </tr>\n",
       "    <tr>\n",
       "      <th>9</th>\n",
       "      <td>6</td>\n",
       "      <td>22.064327</td>\n",
       "      <td>3038</td>\n",
       "      <td>2</td>\n",
       "      <td>3</td>\n",
       "      <td>7</td>\n",
       "      <td>6.465244</td>\n",
       "      <td>-37.998898</td>\n",
       "      <td>145.465365</td>\n",
       "      <td>107</td>\n",
       "      <td>2</td>\n",
       "      <td>57</td>\n",
       "      <td>29</td>\n",
       "      <td>4</td>\n",
       "      <td>Doveton</td>\n",
       "      <td>u</td>\n",
       "      <td>Daniel</td>\n",
       "      <td>Whittlesea</td>\n",
       "      <td>South-Eastern Metropolitan</td>\n",
       "    </tr>\n",
       "  </tbody>\n",
       "</table>\n",
       "</div>"
      ],
      "text/plain": [
       "   Rooms   Distance  Postcode  Bedroom2  Bathroom  Car  Landsize  Lattitude  \\\n",
       "0      8  15.079937      3035         2         7    3  5.213194 -37.112406   \n",
       "1      9  18.475390      3052         7         7    8  9.458374 -37.543794   \n",
       "2      9   3.757588      3004         2         0    6  0.666237 -36.981797   \n",
       "3      7   9.404633      3068         2         0    3  4.044229 -36.645191   \n",
       "4      3  18.026090      3019         1         0    0  8.461468 -37.915971   \n",
       "5      8  12.854626      3061         0         4    3  6.218286 -36.922849   \n",
       "6      1   9.994791      3012         0         6    9  9.922428 -37.158886   \n",
       "7      5   3.822156      3077         3         8    7  3.141045 -37.292762   \n",
       "8      2   7.927780      3048         1         7    4  6.745522 -37.790099   \n",
       "9      6  22.064327      3038         2         3    7  6.465244 -37.998898   \n",
       "\n",
       "   Longtitude  Suburb_encoded  Type_encoded  SellerG_encoded  Council_encoded  \\\n",
       "0  144.541518             253             1               56               11   \n",
       "1  144.633338             222             0               43                4   \n",
       "2  144.886006              50             1              179               19   \n",
       "3  144.620805             231             2               81               12   \n",
       "4  145.117536             226             0               83               23   \n",
       "5  144.976726              16             1              148                7   \n",
       "6  144.692867             175             0               58               25   \n",
       "7  145.143471             104             1              165               12   \n",
       "8  144.823443             257             1               14               10   \n",
       "9  145.465365             107             2               57               29   \n",
       "\n",
       "   Regionname_encoded             Suburb Type     SellerG       Council  \\\n",
       "0                   3               Skye    t    D'Aprano          Hume   \n",
       "1                   1     Oakleigh South    h    Chambers      Cardinia   \n",
       "2                   2       Bullengarook    t       Prime        Melton   \n",
       "3                   4     Port Melbourne    u        Gary      Kingston   \n",
       "4                   6           Parkdale    h    Grantham      Moreland   \n",
       "5                   2  Aspendale Gardens    t      Moonee     Frankston   \n",
       "6                   1          Kingsbury    h      Darras  Port Phillip   \n",
       "7                   1     Doncaster East    t        Only      Kingston   \n",
       "8                   7        South Yarra    t  Australian   Hobsons Bay   \n",
       "9                   4            Doveton    u      Daniel    Whittlesea   \n",
       "\n",
       "                   Regionname  \n",
       "0           Northern Victoria  \n",
       "1            Eastern Victoria  \n",
       "2       Northern Metropolitan  \n",
       "3  South-Eastern Metropolitan  \n",
       "4        Western Metropolitan  \n",
       "5       Northern Metropolitan  \n",
       "6            Eastern Victoria  \n",
       "7            Eastern Victoria  \n",
       "8            Western Victoria  \n",
       "9  South-Eastern Metropolitan  "
      ]
     },
     "execution_count": 71,
     "metadata": {},
     "output_type": "execute_result"
    }
   ],
   "source": [
    "trial_data"
   ]
  },
  {
   "cell_type": "markdown",
   "metadata": {},
   "source": [
    "Although we have both label encoded and text value both present in our trial set, we will drop the text values and further process it the same way we did it for our main data"
   ]
  },
  {
   "cell_type": "code",
   "execution_count": 72,
   "metadata": {},
   "outputs": [
    {
     "data": {
      "text/html": [
       "<div>\n",
       "<style scoped>\n",
       "    .dataframe tbody tr th:only-of-type {\n",
       "        vertical-align: middle;\n",
       "    }\n",
       "\n",
       "    .dataframe tbody tr th {\n",
       "        vertical-align: top;\n",
       "    }\n",
       "\n",
       "    .dataframe thead th {\n",
       "        text-align: right;\n",
       "    }\n",
       "</style>\n",
       "<table border=\"1\" class=\"dataframe\">\n",
       "  <thead>\n",
       "    <tr style=\"text-align: right;\">\n",
       "      <th></th>\n",
       "      <th>Rooms</th>\n",
       "      <th>Distance</th>\n",
       "      <th>Postcode</th>\n",
       "      <th>Bedroom2</th>\n",
       "      <th>Bathroom</th>\n",
       "      <th>Car</th>\n",
       "      <th>Landsize</th>\n",
       "      <th>Lattitude</th>\n",
       "      <th>Longtitude</th>\n",
       "      <th>Suburb_encoded</th>\n",
       "      <th>Type_encoded</th>\n",
       "      <th>SellerG_encoded</th>\n",
       "      <th>Council_encoded</th>\n",
       "      <th>Regionname_encoded</th>\n",
       "    </tr>\n",
       "  </thead>\n",
       "  <tbody>\n",
       "    <tr>\n",
       "      <th>0</th>\n",
       "      <td>8</td>\n",
       "      <td>15.079937</td>\n",
       "      <td>3035</td>\n",
       "      <td>2</td>\n",
       "      <td>7</td>\n",
       "      <td>3</td>\n",
       "      <td>5.213194</td>\n",
       "      <td>-37.112406</td>\n",
       "      <td>144.541518</td>\n",
       "      <td>253</td>\n",
       "      <td>1</td>\n",
       "      <td>56</td>\n",
       "      <td>11</td>\n",
       "      <td>3</td>\n",
       "    </tr>\n",
       "    <tr>\n",
       "      <th>1</th>\n",
       "      <td>9</td>\n",
       "      <td>18.475390</td>\n",
       "      <td>3052</td>\n",
       "      <td>7</td>\n",
       "      <td>7</td>\n",
       "      <td>8</td>\n",
       "      <td>9.458374</td>\n",
       "      <td>-37.543794</td>\n",
       "      <td>144.633338</td>\n",
       "      <td>222</td>\n",
       "      <td>0</td>\n",
       "      <td>43</td>\n",
       "      <td>4</td>\n",
       "      <td>1</td>\n",
       "    </tr>\n",
       "    <tr>\n",
       "      <th>2</th>\n",
       "      <td>9</td>\n",
       "      <td>3.757588</td>\n",
       "      <td>3004</td>\n",
       "      <td>2</td>\n",
       "      <td>0</td>\n",
       "      <td>6</td>\n",
       "      <td>0.666237</td>\n",
       "      <td>-36.981797</td>\n",
       "      <td>144.886006</td>\n",
       "      <td>50</td>\n",
       "      <td>1</td>\n",
       "      <td>179</td>\n",
       "      <td>19</td>\n",
       "      <td>2</td>\n",
       "    </tr>\n",
       "    <tr>\n",
       "      <th>3</th>\n",
       "      <td>7</td>\n",
       "      <td>9.404633</td>\n",
       "      <td>3068</td>\n",
       "      <td>2</td>\n",
       "      <td>0</td>\n",
       "      <td>3</td>\n",
       "      <td>4.044229</td>\n",
       "      <td>-36.645191</td>\n",
       "      <td>144.620805</td>\n",
       "      <td>231</td>\n",
       "      <td>2</td>\n",
       "      <td>81</td>\n",
       "      <td>12</td>\n",
       "      <td>4</td>\n",
       "    </tr>\n",
       "    <tr>\n",
       "      <th>4</th>\n",
       "      <td>3</td>\n",
       "      <td>18.026090</td>\n",
       "      <td>3019</td>\n",
       "      <td>1</td>\n",
       "      <td>0</td>\n",
       "      <td>0</td>\n",
       "      <td>8.461468</td>\n",
       "      <td>-37.915971</td>\n",
       "      <td>145.117536</td>\n",
       "      <td>226</td>\n",
       "      <td>0</td>\n",
       "      <td>83</td>\n",
       "      <td>23</td>\n",
       "      <td>6</td>\n",
       "    </tr>\n",
       "    <tr>\n",
       "      <th>5</th>\n",
       "      <td>8</td>\n",
       "      <td>12.854626</td>\n",
       "      <td>3061</td>\n",
       "      <td>0</td>\n",
       "      <td>4</td>\n",
       "      <td>3</td>\n",
       "      <td>6.218286</td>\n",
       "      <td>-36.922849</td>\n",
       "      <td>144.976726</td>\n",
       "      <td>16</td>\n",
       "      <td>1</td>\n",
       "      <td>148</td>\n",
       "      <td>7</td>\n",
       "      <td>2</td>\n",
       "    </tr>\n",
       "    <tr>\n",
       "      <th>6</th>\n",
       "      <td>1</td>\n",
       "      <td>9.994791</td>\n",
       "      <td>3012</td>\n",
       "      <td>0</td>\n",
       "      <td>6</td>\n",
       "      <td>9</td>\n",
       "      <td>9.922428</td>\n",
       "      <td>-37.158886</td>\n",
       "      <td>144.692867</td>\n",
       "      <td>175</td>\n",
       "      <td>0</td>\n",
       "      <td>58</td>\n",
       "      <td>25</td>\n",
       "      <td>1</td>\n",
       "    </tr>\n",
       "    <tr>\n",
       "      <th>7</th>\n",
       "      <td>5</td>\n",
       "      <td>3.822156</td>\n",
       "      <td>3077</td>\n",
       "      <td>3</td>\n",
       "      <td>8</td>\n",
       "      <td>7</td>\n",
       "      <td>3.141045</td>\n",
       "      <td>-37.292762</td>\n",
       "      <td>145.143471</td>\n",
       "      <td>104</td>\n",
       "      <td>1</td>\n",
       "      <td>165</td>\n",
       "      <td>12</td>\n",
       "      <td>1</td>\n",
       "    </tr>\n",
       "    <tr>\n",
       "      <th>8</th>\n",
       "      <td>2</td>\n",
       "      <td>7.927780</td>\n",
       "      <td>3048</td>\n",
       "      <td>1</td>\n",
       "      <td>7</td>\n",
       "      <td>4</td>\n",
       "      <td>6.745522</td>\n",
       "      <td>-37.790099</td>\n",
       "      <td>144.823443</td>\n",
       "      <td>257</td>\n",
       "      <td>1</td>\n",
       "      <td>14</td>\n",
       "      <td>10</td>\n",
       "      <td>7</td>\n",
       "    </tr>\n",
       "    <tr>\n",
       "      <th>9</th>\n",
       "      <td>6</td>\n",
       "      <td>22.064327</td>\n",
       "      <td>3038</td>\n",
       "      <td>2</td>\n",
       "      <td>3</td>\n",
       "      <td>7</td>\n",
       "      <td>6.465244</td>\n",
       "      <td>-37.998898</td>\n",
       "      <td>145.465365</td>\n",
       "      <td>107</td>\n",
       "      <td>2</td>\n",
       "      <td>57</td>\n",
       "      <td>29</td>\n",
       "      <td>4</td>\n",
       "    </tr>\n",
       "  </tbody>\n",
       "</table>\n",
       "</div>"
      ],
      "text/plain": [
       "   Rooms   Distance  Postcode  Bedroom2  Bathroom  Car  Landsize  Lattitude  \\\n",
       "0      8  15.079937      3035         2         7    3  5.213194 -37.112406   \n",
       "1      9  18.475390      3052         7         7    8  9.458374 -37.543794   \n",
       "2      9   3.757588      3004         2         0    6  0.666237 -36.981797   \n",
       "3      7   9.404633      3068         2         0    3  4.044229 -36.645191   \n",
       "4      3  18.026090      3019         1         0    0  8.461468 -37.915971   \n",
       "5      8  12.854626      3061         0         4    3  6.218286 -36.922849   \n",
       "6      1   9.994791      3012         0         6    9  9.922428 -37.158886   \n",
       "7      5   3.822156      3077         3         8    7  3.141045 -37.292762   \n",
       "8      2   7.927780      3048         1         7    4  6.745522 -37.790099   \n",
       "9      6  22.064327      3038         2         3    7  6.465244 -37.998898   \n",
       "\n",
       "   Longtitude  Suburb_encoded  Type_encoded  SellerG_encoded  Council_encoded  \\\n",
       "0  144.541518             253             1               56               11   \n",
       "1  144.633338             222             0               43                4   \n",
       "2  144.886006              50             1              179               19   \n",
       "3  144.620805             231             2               81               12   \n",
       "4  145.117536             226             0               83               23   \n",
       "5  144.976726              16             1              148                7   \n",
       "6  144.692867             175             0               58               25   \n",
       "7  145.143471             104             1              165               12   \n",
       "8  144.823443             257             1               14               10   \n",
       "9  145.465365             107             2               57               29   \n",
       "\n",
       "   Regionname_encoded  \n",
       "0                   3  \n",
       "1                   1  \n",
       "2                   2  \n",
       "3                   4  \n",
       "4                   6  \n",
       "5                   2  \n",
       "6                   1  \n",
       "7                   1  \n",
       "8                   7  \n",
       "9                   4  "
      ]
     },
     "execution_count": 72,
     "metadata": {},
     "output_type": "execute_result"
    }
   ],
   "source": [
    "feature_trial = trial_data.drop(columns=['Suburb','Type','SellerG','Council','Regionname'])\n",
    "feature_trial"
   ]
  },
  {
   "cell_type": "code",
   "execution_count": 73,
   "metadata": {},
   "outputs": [],
   "source": [
    "X_trial = feature_trial\n",
    "X_trial = preprocessing.StandardScaler().fit(X_trial).transform(X_trial)"
   ]
  },
  {
   "cell_type": "code",
   "execution_count": 74,
   "metadata": {},
   "outputs": [],
   "source": [
    "X_trial_pr = pr.fit_transform(X_trial)"
   ]
  },
  {
   "cell_type": "code",
   "execution_count": 75,
   "metadata": {},
   "outputs": [
    {
     "data": {
      "text/html": [
       "<div>\n",
       "<style scoped>\n",
       "    .dataframe tbody tr th:only-of-type {\n",
       "        vertical-align: middle;\n",
       "    }\n",
       "\n",
       "    .dataframe tbody tr th {\n",
       "        vertical-align: top;\n",
       "    }\n",
       "\n",
       "    .dataframe thead th {\n",
       "        text-align: right;\n",
       "    }\n",
       "</style>\n",
       "<table border=\"1\" class=\"dataframe\">\n",
       "  <thead>\n",
       "    <tr style=\"text-align: right;\">\n",
       "      <th></th>\n",
       "      <th>Price_Predicted</th>\n",
       "    </tr>\n",
       "  </thead>\n",
       "  <tbody>\n",
       "    <tr>\n",
       "      <th>0</th>\n",
       "      <td>831588</td>\n",
       "    </tr>\n",
       "    <tr>\n",
       "      <th>1</th>\n",
       "      <td>1778777</td>\n",
       "    </tr>\n",
       "    <tr>\n",
       "      <th>2</th>\n",
       "      <td>811022</td>\n",
       "    </tr>\n",
       "    <tr>\n",
       "      <th>3</th>\n",
       "      <td>744635</td>\n",
       "    </tr>\n",
       "    <tr>\n",
       "      <th>4</th>\n",
       "      <td>1303094</td>\n",
       "    </tr>\n",
       "    <tr>\n",
       "      <th>5</th>\n",
       "      <td>929679</td>\n",
       "    </tr>\n",
       "    <tr>\n",
       "      <th>6</th>\n",
       "      <td>1373044</td>\n",
       "    </tr>\n",
       "    <tr>\n",
       "      <th>7</th>\n",
       "      <td>1276176</td>\n",
       "    </tr>\n",
       "    <tr>\n",
       "      <th>8</th>\n",
       "      <td>994152</td>\n",
       "    </tr>\n",
       "    <tr>\n",
       "      <th>9</th>\n",
       "      <td>795670</td>\n",
       "    </tr>\n",
       "  </tbody>\n",
       "</table>\n",
       "</div>"
      ],
      "text/plain": [
       "   Price_Predicted\n",
       "0           831588\n",
       "1          1778777\n",
       "2           811022\n",
       "3           744635\n",
       "4          1303094\n",
       "5           929679\n",
       "6          1373044\n",
       "7          1276176\n",
       "8           994152\n",
       "9           795670"
      ]
     },
     "execution_count": 75,
     "metadata": {},
     "output_type": "execute_result"
    }
   ],
   "source": [
    "y_hat_trial = pd.DataFrame(LR.predict(X_trial_pr).astype(int),columns=['Price_Predicted'])\n",
    "y_hat_trial"
   ]
  },
  {
   "cell_type": "markdown",
   "metadata": {},
   "source": [
    "We have predicted our price for houses with random data. Let us merge it with our trial_data to view it more easily"
   ]
  },
  {
   "cell_type": "code",
   "execution_count": 76,
   "metadata": {},
   "outputs": [],
   "source": [
    "trial_data_final = pd.concat([trial_data,y_hat_trial],axis=1)"
   ]
  },
  {
   "cell_type": "code",
   "execution_count": 77,
   "metadata": {},
   "outputs": [
    {
     "data": {
      "text/html": [
       "<div>\n",
       "<style scoped>\n",
       "    .dataframe tbody tr th:only-of-type {\n",
       "        vertical-align: middle;\n",
       "    }\n",
       "\n",
       "    .dataframe tbody tr th {\n",
       "        vertical-align: top;\n",
       "    }\n",
       "\n",
       "    .dataframe thead th {\n",
       "        text-align: right;\n",
       "    }\n",
       "</style>\n",
       "<table border=\"1\" class=\"dataframe\">\n",
       "  <thead>\n",
       "    <tr style=\"text-align: right;\">\n",
       "      <th></th>\n",
       "      <th>Rooms</th>\n",
       "      <th>Distance</th>\n",
       "      <th>Postcode</th>\n",
       "      <th>Bedroom2</th>\n",
       "      <th>Bathroom</th>\n",
       "      <th>Car</th>\n",
       "      <th>Landsize</th>\n",
       "      <th>Lattitude</th>\n",
       "      <th>Longtitude</th>\n",
       "      <th>Suburb_encoded</th>\n",
       "      <th>Type_encoded</th>\n",
       "      <th>SellerG_encoded</th>\n",
       "      <th>Council_encoded</th>\n",
       "      <th>Regionname_encoded</th>\n",
       "      <th>Suburb</th>\n",
       "      <th>Type</th>\n",
       "      <th>SellerG</th>\n",
       "      <th>Council</th>\n",
       "      <th>Regionname</th>\n",
       "      <th>Price_Predicted</th>\n",
       "    </tr>\n",
       "  </thead>\n",
       "  <tbody>\n",
       "    <tr>\n",
       "      <th>0</th>\n",
       "      <td>8</td>\n",
       "      <td>15.079937</td>\n",
       "      <td>3035</td>\n",
       "      <td>2</td>\n",
       "      <td>7</td>\n",
       "      <td>3</td>\n",
       "      <td>5.213194</td>\n",
       "      <td>-37.112406</td>\n",
       "      <td>144.541518</td>\n",
       "      <td>253</td>\n",
       "      <td>1</td>\n",
       "      <td>56</td>\n",
       "      <td>11</td>\n",
       "      <td>3</td>\n",
       "      <td>Skye</td>\n",
       "      <td>t</td>\n",
       "      <td>D'Aprano</td>\n",
       "      <td>Hume</td>\n",
       "      <td>Northern Victoria</td>\n",
       "      <td>831588</td>\n",
       "    </tr>\n",
       "    <tr>\n",
       "      <th>1</th>\n",
       "      <td>9</td>\n",
       "      <td>18.475390</td>\n",
       "      <td>3052</td>\n",
       "      <td>7</td>\n",
       "      <td>7</td>\n",
       "      <td>8</td>\n",
       "      <td>9.458374</td>\n",
       "      <td>-37.543794</td>\n",
       "      <td>144.633338</td>\n",
       "      <td>222</td>\n",
       "      <td>0</td>\n",
       "      <td>43</td>\n",
       "      <td>4</td>\n",
       "      <td>1</td>\n",
       "      <td>Oakleigh South</td>\n",
       "      <td>h</td>\n",
       "      <td>Chambers</td>\n",
       "      <td>Cardinia</td>\n",
       "      <td>Eastern Victoria</td>\n",
       "      <td>1778777</td>\n",
       "    </tr>\n",
       "    <tr>\n",
       "      <th>2</th>\n",
       "      <td>9</td>\n",
       "      <td>3.757588</td>\n",
       "      <td>3004</td>\n",
       "      <td>2</td>\n",
       "      <td>0</td>\n",
       "      <td>6</td>\n",
       "      <td>0.666237</td>\n",
       "      <td>-36.981797</td>\n",
       "      <td>144.886006</td>\n",
       "      <td>50</td>\n",
       "      <td>1</td>\n",
       "      <td>179</td>\n",
       "      <td>19</td>\n",
       "      <td>2</td>\n",
       "      <td>Bullengarook</td>\n",
       "      <td>t</td>\n",
       "      <td>Prime</td>\n",
       "      <td>Melton</td>\n",
       "      <td>Northern Metropolitan</td>\n",
       "      <td>811022</td>\n",
       "    </tr>\n",
       "    <tr>\n",
       "      <th>3</th>\n",
       "      <td>7</td>\n",
       "      <td>9.404633</td>\n",
       "      <td>3068</td>\n",
       "      <td>2</td>\n",
       "      <td>0</td>\n",
       "      <td>3</td>\n",
       "      <td>4.044229</td>\n",
       "      <td>-36.645191</td>\n",
       "      <td>144.620805</td>\n",
       "      <td>231</td>\n",
       "      <td>2</td>\n",
       "      <td>81</td>\n",
       "      <td>12</td>\n",
       "      <td>4</td>\n",
       "      <td>Port Melbourne</td>\n",
       "      <td>u</td>\n",
       "      <td>Gary</td>\n",
       "      <td>Kingston</td>\n",
       "      <td>South-Eastern Metropolitan</td>\n",
       "      <td>744635</td>\n",
       "    </tr>\n",
       "    <tr>\n",
       "      <th>4</th>\n",
       "      <td>3</td>\n",
       "      <td>18.026090</td>\n",
       "      <td>3019</td>\n",
       "      <td>1</td>\n",
       "      <td>0</td>\n",
       "      <td>0</td>\n",
       "      <td>8.461468</td>\n",
       "      <td>-37.915971</td>\n",
       "      <td>145.117536</td>\n",
       "      <td>226</td>\n",
       "      <td>0</td>\n",
       "      <td>83</td>\n",
       "      <td>23</td>\n",
       "      <td>6</td>\n",
       "      <td>Parkdale</td>\n",
       "      <td>h</td>\n",
       "      <td>Grantham</td>\n",
       "      <td>Moreland</td>\n",
       "      <td>Western Metropolitan</td>\n",
       "      <td>1303094</td>\n",
       "    </tr>\n",
       "    <tr>\n",
       "      <th>5</th>\n",
       "      <td>8</td>\n",
       "      <td>12.854626</td>\n",
       "      <td>3061</td>\n",
       "      <td>0</td>\n",
       "      <td>4</td>\n",
       "      <td>3</td>\n",
       "      <td>6.218286</td>\n",
       "      <td>-36.922849</td>\n",
       "      <td>144.976726</td>\n",
       "      <td>16</td>\n",
       "      <td>1</td>\n",
       "      <td>148</td>\n",
       "      <td>7</td>\n",
       "      <td>2</td>\n",
       "      <td>Aspendale Gardens</td>\n",
       "      <td>t</td>\n",
       "      <td>Moonee</td>\n",
       "      <td>Frankston</td>\n",
       "      <td>Northern Metropolitan</td>\n",
       "      <td>929679</td>\n",
       "    </tr>\n",
       "    <tr>\n",
       "      <th>6</th>\n",
       "      <td>1</td>\n",
       "      <td>9.994791</td>\n",
       "      <td>3012</td>\n",
       "      <td>0</td>\n",
       "      <td>6</td>\n",
       "      <td>9</td>\n",
       "      <td>9.922428</td>\n",
       "      <td>-37.158886</td>\n",
       "      <td>144.692867</td>\n",
       "      <td>175</td>\n",
       "      <td>0</td>\n",
       "      <td>58</td>\n",
       "      <td>25</td>\n",
       "      <td>1</td>\n",
       "      <td>Kingsbury</td>\n",
       "      <td>h</td>\n",
       "      <td>Darras</td>\n",
       "      <td>Port Phillip</td>\n",
       "      <td>Eastern Victoria</td>\n",
       "      <td>1373044</td>\n",
       "    </tr>\n",
       "    <tr>\n",
       "      <th>7</th>\n",
       "      <td>5</td>\n",
       "      <td>3.822156</td>\n",
       "      <td>3077</td>\n",
       "      <td>3</td>\n",
       "      <td>8</td>\n",
       "      <td>7</td>\n",
       "      <td>3.141045</td>\n",
       "      <td>-37.292762</td>\n",
       "      <td>145.143471</td>\n",
       "      <td>104</td>\n",
       "      <td>1</td>\n",
       "      <td>165</td>\n",
       "      <td>12</td>\n",
       "      <td>1</td>\n",
       "      <td>Doncaster East</td>\n",
       "      <td>t</td>\n",
       "      <td>Only</td>\n",
       "      <td>Kingston</td>\n",
       "      <td>Eastern Victoria</td>\n",
       "      <td>1276176</td>\n",
       "    </tr>\n",
       "    <tr>\n",
       "      <th>8</th>\n",
       "      <td>2</td>\n",
       "      <td>7.927780</td>\n",
       "      <td>3048</td>\n",
       "      <td>1</td>\n",
       "      <td>7</td>\n",
       "      <td>4</td>\n",
       "      <td>6.745522</td>\n",
       "      <td>-37.790099</td>\n",
       "      <td>144.823443</td>\n",
       "      <td>257</td>\n",
       "      <td>1</td>\n",
       "      <td>14</td>\n",
       "      <td>10</td>\n",
       "      <td>7</td>\n",
       "      <td>South Yarra</td>\n",
       "      <td>t</td>\n",
       "      <td>Australian</td>\n",
       "      <td>Hobsons Bay</td>\n",
       "      <td>Western Victoria</td>\n",
       "      <td>994152</td>\n",
       "    </tr>\n",
       "    <tr>\n",
       "      <th>9</th>\n",
       "      <td>6</td>\n",
       "      <td>22.064327</td>\n",
       "      <td>3038</td>\n",
       "      <td>2</td>\n",
       "      <td>3</td>\n",
       "      <td>7</td>\n",
       "      <td>6.465244</td>\n",
       "      <td>-37.998898</td>\n",
       "      <td>145.465365</td>\n",
       "      <td>107</td>\n",
       "      <td>2</td>\n",
       "      <td>57</td>\n",
       "      <td>29</td>\n",
       "      <td>4</td>\n",
       "      <td>Doveton</td>\n",
       "      <td>u</td>\n",
       "      <td>Daniel</td>\n",
       "      <td>Whittlesea</td>\n",
       "      <td>South-Eastern Metropolitan</td>\n",
       "      <td>795670</td>\n",
       "    </tr>\n",
       "  </tbody>\n",
       "</table>\n",
       "</div>"
      ],
      "text/plain": [
       "   Rooms   Distance  Postcode  Bedroom2  Bathroom  Car  Landsize  Lattitude  \\\n",
       "0      8  15.079937      3035         2         7    3  5.213194 -37.112406   \n",
       "1      9  18.475390      3052         7         7    8  9.458374 -37.543794   \n",
       "2      9   3.757588      3004         2         0    6  0.666237 -36.981797   \n",
       "3      7   9.404633      3068         2         0    3  4.044229 -36.645191   \n",
       "4      3  18.026090      3019         1         0    0  8.461468 -37.915971   \n",
       "5      8  12.854626      3061         0         4    3  6.218286 -36.922849   \n",
       "6      1   9.994791      3012         0         6    9  9.922428 -37.158886   \n",
       "7      5   3.822156      3077         3         8    7  3.141045 -37.292762   \n",
       "8      2   7.927780      3048         1         7    4  6.745522 -37.790099   \n",
       "9      6  22.064327      3038         2         3    7  6.465244 -37.998898   \n",
       "\n",
       "   Longtitude  Suburb_encoded  Type_encoded  SellerG_encoded  Council_encoded  \\\n",
       "0  144.541518             253             1               56               11   \n",
       "1  144.633338             222             0               43                4   \n",
       "2  144.886006              50             1              179               19   \n",
       "3  144.620805             231             2               81               12   \n",
       "4  145.117536             226             0               83               23   \n",
       "5  144.976726              16             1              148                7   \n",
       "6  144.692867             175             0               58               25   \n",
       "7  145.143471             104             1              165               12   \n",
       "8  144.823443             257             1               14               10   \n",
       "9  145.465365             107             2               57               29   \n",
       "\n",
       "   Regionname_encoded             Suburb Type     SellerG       Council  \\\n",
       "0                   3               Skye    t    D'Aprano          Hume   \n",
       "1                   1     Oakleigh South    h    Chambers      Cardinia   \n",
       "2                   2       Bullengarook    t       Prime        Melton   \n",
       "3                   4     Port Melbourne    u        Gary      Kingston   \n",
       "4                   6           Parkdale    h    Grantham      Moreland   \n",
       "5                   2  Aspendale Gardens    t      Moonee     Frankston   \n",
       "6                   1          Kingsbury    h      Darras  Port Phillip   \n",
       "7                   1     Doncaster East    t        Only      Kingston   \n",
       "8                   7        South Yarra    t  Australian   Hobsons Bay   \n",
       "9                   4            Doveton    u      Daniel    Whittlesea   \n",
       "\n",
       "                   Regionname  Price_Predicted  \n",
       "0           Northern Victoria           831588  \n",
       "1            Eastern Victoria          1778777  \n",
       "2       Northern Metropolitan           811022  \n",
       "3  South-Eastern Metropolitan           744635  \n",
       "4        Western Metropolitan          1303094  \n",
       "5       Northern Metropolitan           929679  \n",
       "6            Eastern Victoria          1373044  \n",
       "7            Eastern Victoria          1276176  \n",
       "8            Western Victoria           994152  \n",
       "9  South-Eastern Metropolitan           795670  "
      ]
     },
     "execution_count": 77,
     "metadata": {},
     "output_type": "execute_result"
    }
   ],
   "source": [
    "trial_data_final"
   ]
  },
  {
   "cell_type": "code",
   "execution_count": null,
   "metadata": {},
   "outputs": [],
   "source": []
  }
 ],
 "metadata": {
  "kernelspec": {
   "display_name": "Python 3",
   "language": "python",
   "name": "python3"
  },
  "language_info": {
   "codemirror_mode": {
    "name": "ipython",
    "version": 3
   },
   "file_extension": ".py",
   "mimetype": "text/x-python",
   "name": "python",
   "nbconvert_exporter": "python",
   "pygments_lexer": "ipython3",
   "version": "3.8.5"
  }
 },
 "nbformat": 4,
 "nbformat_minor": 4
}
